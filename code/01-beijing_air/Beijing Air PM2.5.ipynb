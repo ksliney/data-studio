{
 "cells": [
  {
   "cell_type": "code",
   "execution_count": 11,
   "metadata": {},
   "outputs": [],
   "source": [
    "import matplotlib.font_manager\n",
    "from IPython.core.display import HTML\n",
    "import pandas as pd\n",
    "import numpy as np\n",
    "import matplotlib.pyplot as plt\n",
    "%matplotlib inline\n",
    "import datetime\n",
    "from iplotter import C3Plotter, ChartJSPlotter, VirtualBrowser\n",
    "#Chart documentation here: https://github.com/niloch/iplotter\n",
    "#PM 2.5 values present within the index: https://blissair.com/what-is-pm-2-5.htm"
   ]
  },
  {
   "cell_type": "code",
   "execution_count": 12,
   "metadata": {},
   "outputs": [],
   "source": [
    "df = pd.read_csv(\"Beijing_2008_HourlyPM2.5_created20140325.csv\", encoding='latin1')\n",
    "df['QC Name'].astype(str)\n",
    "vdf = df[df['QC Name'].str.contains(\"Missing\") == False]\n",
    "vdf_2008 = vdf.groupby([\"Year\", \"Month\", \"Day\"]).Value.mean().reset_index()"
   ]
  },
  {
   "cell_type": "code",
   "execution_count": 13,
   "metadata": {},
   "outputs": [
    {
     "data": {
      "text/plain": [
       "4"
      ]
     },
     "execution_count": 13,
     "metadata": {},
     "output_type": "execute_result"
    }
   ],
   "source": [
    "#number of good days in all of 2008:\n",
    "len(vdf_2008[vdf_2008['Value'] <= 12])"
   ]
  },
  {
   "cell_type": "code",
   "execution_count": 14,
   "metadata": {},
   "outputs": [
    {
     "data": {
      "text/plain": [
       "35"
      ]
     },
     "execution_count": 14,
     "metadata": {},
     "output_type": "execute_result"
    }
   ],
   "source": [
    "#number of moderate days in all of 2008:\n",
    "#Total number less than or equal to 100, minus the good days\n",
    "len(vdf_2008[vdf_2008['Value'] <= 35.4]) - len(vdf_2008[vdf_2008['Value'] <= 12])"
   ]
  },
  {
   "cell_type": "code",
   "execution_count": 15,
   "metadata": {},
   "outputs": [
    {
     "data": {
      "text/plain": [
       "30"
      ]
     },
     "execution_count": 15,
     "metadata": {},
     "output_type": "execute_result"
    }
   ],
   "source": [
    "#number of days considered unhealthy for sensitive groups in 2008, minus good and minus moderate:\n",
    "len(vdf_2008[vdf_2008['Value'] <= 55.4]) - len(vdf_2008[vdf_2008['Value'] <= 35.4])"
   ]
  },
  {
   "cell_type": "code",
   "execution_count": 16,
   "metadata": {},
   "outputs": [
    {
     "data": {
      "text/plain": [
       "119"
      ]
     },
     "execution_count": 16,
     "metadata": {},
     "output_type": "execute_result"
    }
   ],
   "source": [
    "#number of unhealthy days in 2008, minus good, moderate, and unhealthy for sensitive:\n",
    "len(vdf_2008[vdf_2008['Value'] <= 150.4]) - len(vdf_2008[vdf_2008['Value'] <= 55.4])"
   ]
  },
  {
   "cell_type": "code",
   "execution_count": 17,
   "metadata": {},
   "outputs": [
    {
     "data": {
      "text/plain": [
       "24"
      ]
     },
     "execution_count": 17,
     "metadata": {},
     "output_type": "execute_result"
    }
   ],
   "source": [
    "#number of very unhealthy days 2008, minus good, moderate, and unhealthy for sensitive:\n",
    "len(vdf_2008[vdf_2008['Value'] <= 250.4]) -len(vdf_2008[vdf_2008['Value'] <= 150.4])"
   ]
  },
  {
   "cell_type": "code",
   "execution_count": 18,
   "metadata": {},
   "outputs": [
    {
     "data": {
      "text/plain": [
       "0"
      ]
     },
     "execution_count": 18,
     "metadata": {},
     "output_type": "execute_result"
    }
   ],
   "source": [
    "#number of hazardous days 2008, minus good, moderate, and unhealthy for sensitive, unhealthy, and very unhealthy:\n",
    "len(vdf_2008[vdf_2008['Value'] <= 500.4]) - len(vdf_2008[vdf_2008['Value'] <= 250.4])"
   ]
  },
  {
   "cell_type": "code",
   "execution_count": 19,
   "metadata": {},
   "outputs": [
    {
     "data": {
      "text/plain": [
       "212"
      ]
     },
     "execution_count": 19,
     "metadata": {},
     "output_type": "execute_result"
    }
   ],
   "source": [
    "#total number of days we know about, or have valid data:\n",
    "len(vdf_2008)"
   ]
  },
  {
   "cell_type": "code",
   "execution_count": 20,
   "metadata": {},
   "outputs": [
    {
     "data": {
      "text/plain": [
       "153"
      ]
     },
     "execution_count": 20,
     "metadata": {},
     "output_type": "execute_result"
    }
   ],
   "source": [
    "#unknown days in 2008:\n",
    "365 - len(vdf_2008)"
   ]
  },
  {
   "cell_type": "code",
   "execution_count": 21,
   "metadata": {},
   "outputs": [
    {
     "data": {
      "text/plain": [
       "0"
      ]
     },
     "execution_count": 21,
     "metadata": {},
     "output_type": "execute_result"
    }
   ],
   "source": [
    "df2 = pd.read_csv(\"Beijing_2009_HourlyPM25_created20140709.csv\", encoding='latin1')\n",
    "df2['QC Name'].astype(str)\n",
    "vdf2 = df2[df2['QC Name'].str.contains(\"Missing\") == False]\n",
    "vdf2_2009 = vdf2.groupby([\"Year\", \"Month\", \"Day\"]).Value.mean().reset_index()\n",
    "vdf2_2009.sort_values(by=['Value'])\n",
    "\n",
    "#number of Good days in all of 2009:\n",
    "len(vdf2_2009[vdf2_2009['Value'] <= 12])"
   ]
  },
  {
   "cell_type": "code",
   "execution_count": 22,
   "metadata": {},
   "outputs": [
    {
     "data": {
      "text/plain": [
       "46"
      ]
     },
     "execution_count": 22,
     "metadata": {},
     "output_type": "execute_result"
    }
   ],
   "source": [
    "#number of doderate days in all of 2009:\n",
    "#Total number less than or equal to 100, minus the good days\n",
    "len(vdf2_2009[vdf2_2009['Value'] <= 35.4])- len(vdf2_2009[vdf2_2009['Value'] <= 12])"
   ]
  },
  {
   "cell_type": "code",
   "execution_count": 23,
   "metadata": {},
   "outputs": [
    {
     "data": {
      "text/plain": [
       "29"
      ]
     },
     "execution_count": 23,
     "metadata": {},
     "output_type": "execute_result"
    }
   ],
   "source": [
    "#number of days considered unhealthy for sensitive groups in 2009, minus good and minus moderate:\n",
    "len(vdf2_2009[vdf2_2009['Value'] <= 55.4])- len(vdf2_2009[vdf2_2009['Value'] <= 35.4])"
   ]
  },
  {
   "cell_type": "code",
   "execution_count": 24,
   "metadata": {},
   "outputs": [
    {
     "data": {
      "text/plain": [
       "170"
      ]
     },
     "execution_count": 24,
     "metadata": {},
     "output_type": "execute_result"
    }
   ],
   "source": [
    "#number of unhealthy days in 2009, minus good and minus moderate and unhealthy for sensitive:\n",
    "len(vdf2_2009[vdf2_2009['Value'] <= 150.4])- len(vdf2_2009[vdf2_2009['Value'] <= 55.4])"
   ]
  },
  {
   "cell_type": "code",
   "execution_count": 25,
   "metadata": {},
   "outputs": [
    {
     "data": {
      "text/plain": [
       "44"
      ]
     },
     "execution_count": 25,
     "metadata": {},
     "output_type": "execute_result"
    }
   ],
   "source": [
    "#number of very unhealthy days in 2009:\n",
    "len(vdf2_2009[vdf2_2009['Value'] <= 250.4])-len(vdf2_2009[vdf2_2009['Value'] <= 150.4])"
   ]
  },
  {
   "cell_type": "code",
   "execution_count": 26,
   "metadata": {},
   "outputs": [
    {
     "data": {
      "text/plain": [
       "12"
      ]
     },
     "execution_count": 26,
     "metadata": {},
     "output_type": "execute_result"
    }
   ],
   "source": [
    "#number of hazardous days in 2009:\n",
    "len(vdf2_2009[vdf2_2009['Value'] <= 500.4])-len(vdf2_2009[vdf2_2009['Value'] <= 250.4])"
   ]
  },
  {
   "cell_type": "code",
   "execution_count": 27,
   "metadata": {},
   "outputs": [
    {
     "data": {
      "text/plain": [
       "64"
      ]
     },
     "execution_count": 27,
     "metadata": {},
     "output_type": "execute_result"
    }
   ],
   "source": [
    "#missing values:\n",
    "len(vdf2_2009)\n",
    "365-len(vdf2_2009)"
   ]
  },
  {
   "cell_type": "code",
   "execution_count": 28,
   "metadata": {},
   "outputs": [
    {
     "data": {
      "text/plain": [
       "4"
      ]
     },
     "execution_count": 28,
     "metadata": {},
     "output_type": "execute_result"
    }
   ],
   "source": [
    "df3 = pd.read_csv(\"Beijing_2010_HourlyPM25_created20140709.csv\", encoding='latin1')\n",
    "df3['QC Name'].astype(str)\n",
    "vdf3 = df3[df3['QC Name'].str.contains(\"Missing\") == False]\n",
    "vdf3_2010 = vdf3.groupby([\"Year\", \"Month\", \"Day\"]).Value.mean().reset_index()\n",
    "vdf3_2010.sort_values(by=['Value'])\n",
    "\n",
    "#number of Good days in all of 2010:\n",
    "len(vdf3_2010[vdf3_2010['Value'] <= 12])"
   ]
  },
  {
   "cell_type": "code",
   "execution_count": 29,
   "metadata": {},
   "outputs": [
    {
     "data": {
      "text/plain": [
       "53"
      ]
     },
     "execution_count": 29,
     "metadata": {},
     "output_type": "execute_result"
    }
   ],
   "source": [
    "#number of Moderate days in all of 2010:\n",
    "#Total number less than or equal to 100, minus the good days\n",
    "len(vdf3_2010[vdf3_2010['Value'] <= 35.4])-len(vdf3_2010[vdf3_2010['Value'] <= 12])"
   ]
  },
  {
   "cell_type": "code",
   "execution_count": 30,
   "metadata": {},
   "outputs": [
    {
     "data": {
      "text/plain": [
       "40"
      ]
     },
     "execution_count": 30,
     "metadata": {},
     "output_type": "execute_result"
    }
   ],
   "source": [
    "#number of unhealthy for sensitive groups in 2010, minus good and moderate:\n",
    "len(vdf3_2010[vdf3_2010['Value'] <= 55.4])-len(vdf3_2010[vdf3_2010['Value'] <= 35.4])"
   ]
  },
  {
   "cell_type": "code",
   "execution_count": 31,
   "metadata": {},
   "outputs": [
    {
     "data": {
      "text/plain": [
       "176"
      ]
     },
     "execution_count": 31,
     "metadata": {},
     "output_type": "execute_result"
    }
   ],
   "source": [
    "#number of unhealthy days in 2010, minus good and minus moderate and unhealthy for sensitive:\n",
    "len(vdf3_2010[vdf3_2010['Value'] <= 150.4])- len(vdf3_2010[vdf3_2010['Value'] <= 55.4])"
   ]
  },
  {
   "cell_type": "code",
   "execution_count": 32,
   "metadata": {},
   "outputs": [
    {
     "data": {
      "text/plain": [
       "60"
      ]
     },
     "execution_count": 32,
     "metadata": {},
     "output_type": "execute_result"
    }
   ],
   "source": [
    "#number of very unhealthy days in 2010:\n",
    "len(vdf3_2010[vdf3_2010['Value'] <= 250.4])- len(vdf3_2010[vdf3_2010['Value'] <= 150.4])"
   ]
  },
  {
   "cell_type": "code",
   "execution_count": 33,
   "metadata": {},
   "outputs": [
    {
     "data": {
      "text/plain": [
       "18"
      ]
     },
     "execution_count": 33,
     "metadata": {},
     "output_type": "execute_result"
    }
   ],
   "source": [
    "#number of hazardous days in 2010:\n",
    "len(vdf3_2010[vdf3_2010['Value'] <= 500.4])- len(vdf3_2010[vdf3_2010['Value'] <= 250.4])"
   ]
  },
  {
   "cell_type": "code",
   "execution_count": 34,
   "metadata": {},
   "outputs": [],
   "source": [
    "#len(vdf3_2010)"
   ]
  },
  {
   "cell_type": "code",
   "execution_count": 35,
   "metadata": {},
   "outputs": [
    {
     "data": {
      "text/plain": [
       "14"
      ]
     },
     "execution_count": 35,
     "metadata": {},
     "output_type": "execute_result"
    }
   ],
   "source": [
    "365-len(vdf3_2010)"
   ]
  },
  {
   "cell_type": "code",
   "execution_count": 36,
   "metadata": {},
   "outputs": [
    {
     "data": {
      "text/plain": [
       "2"
      ]
     },
     "execution_count": 36,
     "metadata": {},
     "output_type": "execute_result"
    }
   ],
   "source": [
    "df4 = pd.read_csv(\"Beijing_2011_HourlyPM25_created20140709.csv\", encoding='latin1')\n",
    "df4['QC Name'].astype(str)\n",
    "vdf4 = df4[df4['QC Name'].str.contains(\"Missing\") == False]\n",
    "vdf4_2011 = vdf4.groupby([\"Year\", \"Month\", \"Day\"]).Value.mean().reset_index()\n",
    "vdf4_2011.sort_values(by=['Value'])\n",
    "\n",
    "#number of Good days in all of 2011:\n",
    "len(vdf4_2011[vdf4_2011['Value'] <= 12])"
   ]
  },
  {
   "cell_type": "code",
   "execution_count": 37,
   "metadata": {},
   "outputs": [
    {
     "data": {
      "text/plain": [
       "80"
      ]
     },
     "execution_count": 37,
     "metadata": {},
     "output_type": "execute_result"
    }
   ],
   "source": [
    "#number of Moderate days in all of 2011, minus the good days:\n",
    "len(vdf4_2011[vdf4_2011['Value'] <= 35.4])- len(vdf4_2011[vdf4_2011['Value'] <= 12])"
   ]
  },
  {
   "cell_type": "code",
   "execution_count": 38,
   "metadata": {},
   "outputs": [
    {
     "data": {
      "text/plain": [
       "52"
      ]
     },
     "execution_count": 38,
     "metadata": {},
     "output_type": "execute_result"
    }
   ],
   "source": [
    "#number unhealthy days for sensitive groups in 2011, minus good and moderate:\n",
    "len(vdf4_2011[vdf4_2011['Value'] <= 55.4])- len(vdf4_2011[vdf4_2011['Value'] <= 35.4])"
   ]
  },
  {
   "cell_type": "code",
   "execution_count": 39,
   "metadata": {},
   "outputs": [
    {
     "data": {
      "text/plain": [
       "146"
      ]
     },
     "execution_count": 39,
     "metadata": {},
     "output_type": "execute_result"
    }
   ],
   "source": [
    "#number of unhealthy days in 2011, minus good and moderate and unhealthy for sensitive:\n",
    "len(vdf4_2011[vdf4_2011['Value'] <= 150.4])- len(vdf4_2011[vdf4_2011['Value'] <= 55.4])"
   ]
  },
  {
   "cell_type": "code",
   "execution_count": 40,
   "metadata": {},
   "outputs": [
    {
     "data": {
      "text/plain": [
       "57"
      ]
     },
     "execution_count": 40,
     "metadata": {},
     "output_type": "execute_result"
    }
   ],
   "source": [
    "#number of very unhealthy days in 2011:\n",
    "len(vdf4_2011[vdf4_2011['Value'] <= 250.4])- len(vdf4_2011[vdf4_2011['Value'] <= 150.4])"
   ]
  },
  {
   "cell_type": "code",
   "execution_count": 41,
   "metadata": {},
   "outputs": [
    {
     "data": {
      "text/plain": [
       "17"
      ]
     },
     "execution_count": 41,
     "metadata": {},
     "output_type": "execute_result"
    }
   ],
   "source": [
    "#number hazardous days in 2011:\n",
    "len(vdf4_2011[vdf4_2011['Value'] <= 500.4])-len(vdf4_2011[vdf4_2011['Value'] <= 250.4])"
   ]
  },
  {
   "cell_type": "code",
   "execution_count": 42,
   "metadata": {},
   "outputs": [
    {
     "data": {
      "text/plain": [
       "11"
      ]
     },
     "execution_count": 42,
     "metadata": {},
     "output_type": "execute_result"
    }
   ],
   "source": [
    "#days unknown:\n",
    "365-len(vdf4_2011)"
   ]
  },
  {
   "cell_type": "code",
   "execution_count": 43,
   "metadata": {},
   "outputs": [
    {
     "data": {
      "text/plain": [
       "7"
      ]
     },
     "execution_count": 43,
     "metadata": {},
     "output_type": "execute_result"
    }
   ],
   "source": [
    "df5 = pd.read_csv(\"Beijing_2012_HourlyPM2.5_created20140325.csv\", encoding='latin1')\n",
    "df5['QC Name'].astype(str)\n",
    "vdf5 = df5[df5['QC Name'].str.contains(\"Missing\") == False]\n",
    "vdf5_2012 = vdf5.groupby([\"Year\", \"Month\", \"Day\"]).Value.mean().reset_index()\n",
    "vdf5_2012.sort_values(by=['Value'])\n",
    "\n",
    "#number of Good days in all of 2012:\n",
    "len(vdf5_2012[vdf5_2012['Value'] <= 12])"
   ]
  },
  {
   "cell_type": "code",
   "execution_count": 44,
   "metadata": {},
   "outputs": [
    {
     "data": {
      "text/plain": [
       "84"
      ]
     },
     "execution_count": 44,
     "metadata": {},
     "output_type": "execute_result"
    }
   ],
   "source": [
    "#number of Moderate days in all of 2012, minus the good days:\n",
    "len(vdf5_2012[vdf5_2012['Value'] <= 35.4]) -len(vdf5_2012[vdf5_2012['Value'] <= 12])"
   ]
  },
  {
   "cell_type": "code",
   "execution_count": 45,
   "metadata": {},
   "outputs": [
    {
     "data": {
      "text/plain": [
       "40"
      ]
     },
     "execution_count": 45,
     "metadata": {},
     "output_type": "execute_result"
    }
   ],
   "source": [
    "#number unhealthy days for sensitive groups in 2012, minus good and moderate:\n",
    "len(vdf5_2012[vdf5_2012['Value'] <= 55.4]) -len(vdf5_2012[vdf5_2012['Value'] <= 35.4])"
   ]
  },
  {
   "cell_type": "code",
   "execution_count": 46,
   "metadata": {},
   "outputs": [
    {
     "data": {
      "text/plain": [
       "160"
      ]
     },
     "execution_count": 46,
     "metadata": {},
     "output_type": "execute_result"
    }
   ],
   "source": [
    "#number of unhealthy days in 2012, minus good and moderate and unhealthy for sensitive:\n",
    "len(vdf5_2012[vdf5_2012['Value'] <= 150.4]) -len(vdf5_2012[vdf5_2012['Value'] <= 55.4])"
   ]
  },
  {
   "cell_type": "code",
   "execution_count": 47,
   "metadata": {},
   "outputs": [
    {
     "data": {
      "text/plain": [
       "54"
      ]
     },
     "execution_count": 47,
     "metadata": {},
     "output_type": "execute_result"
    }
   ],
   "source": [
    "#number of very unhealthy days in 2012:\n",
    "len(vdf5_2012[vdf5_2012['Value'] <= 250.4]) -len(vdf5_2012[vdf5_2012['Value'] <= 150.4])"
   ]
  },
  {
   "cell_type": "code",
   "execution_count": 48,
   "metadata": {},
   "outputs": [
    {
     "data": {
      "text/plain": [
       "10"
      ]
     },
     "execution_count": 48,
     "metadata": {},
     "output_type": "execute_result"
    }
   ],
   "source": [
    "#number of hazardous days in 2012:\n",
    "len(vdf5_2012[vdf5_2012['Value'] <= 500.4]) -len(vdf5_2012[vdf5_2012['Value'] <= 250.4])"
   ]
  },
  {
   "cell_type": "code",
   "execution_count": 49,
   "metadata": {},
   "outputs": [
    {
     "data": {
      "text/plain": [
       "355"
      ]
     },
     "execution_count": 49,
     "metadata": {},
     "output_type": "execute_result"
    }
   ],
   "source": [
    "len(vdf5_2012)"
   ]
  },
  {
   "cell_type": "code",
   "execution_count": 50,
   "metadata": {},
   "outputs": [
    {
     "data": {
      "text/plain": [
       "10"
      ]
     },
     "execution_count": 50,
     "metadata": {},
     "output_type": "execute_result"
    }
   ],
   "source": [
    "365-len(vdf5_2012)"
   ]
  },
  {
   "cell_type": "code",
   "execution_count": 51,
   "metadata": {},
   "outputs": [
    {
     "data": {
      "text/plain": [
       "5"
      ]
     },
     "execution_count": 51,
     "metadata": {},
     "output_type": "execute_result"
    }
   ],
   "source": [
    "df6 = pd.read_csv(\"Beijing_2013_HourlyPM2.5_created20140325.csv\", encoding='latin1')\n",
    "df6['QC Name'].astype(str)\n",
    "vdf6 = df6[df6['QC Name'].str.contains(\"Missing\") == False]\n",
    "vdf6_2013 = vdf6.groupby([\"Year\", \"Month\", \"Day\"]).Value.mean().reset_index()\n",
    "vdf6_2013.sort_values(by=['Value'])\n",
    "\n",
    "#number of Good days in all of 2013:\n",
    "len(vdf6_2013[vdf6_2013['Value'] <= 12])"
   ]
  },
  {
   "cell_type": "code",
   "execution_count": 52,
   "metadata": {},
   "outputs": [
    {
     "data": {
      "text/plain": [
       "58"
      ]
     },
     "execution_count": 52,
     "metadata": {},
     "output_type": "execute_result"
    }
   ],
   "source": [
    "#number of Moderate days in all of 2013, minus the good days:\n",
    "len(vdf6_2013[vdf6_2013['Value'] <= 35.4])-len(vdf6_2013[vdf6_2013['Value'] <= 12])"
   ]
  },
  {
   "cell_type": "code",
   "execution_count": 53,
   "metadata": {},
   "outputs": [
    {
     "data": {
      "text/plain": [
       "54"
      ]
     },
     "execution_count": 53,
     "metadata": {},
     "output_type": "execute_result"
    }
   ],
   "source": [
    "#number unhealthy days for sensitive groups in 2013, minus good and moderate:\n",
    "len(vdf6_2013[vdf6_2013['Value'] <= 55.4])- len(vdf6_2013[vdf6_2013['Value'] <= 35.4])"
   ]
  },
  {
   "cell_type": "code",
   "execution_count": 54,
   "metadata": {},
   "outputs": [
    {
     "data": {
      "text/plain": [
       "176"
      ]
     },
     "execution_count": 54,
     "metadata": {},
     "output_type": "execute_result"
    }
   ],
   "source": [
    "#number of unhealthy days in 2013, minus good and moderate and unhealthy for sensitive:\n",
    "len(vdf6_2013[vdf6_2013['Value'] <= 150.4])-len(vdf6_2013[vdf6_2013['Value'] <= 55.4])"
   ]
  },
  {
   "cell_type": "code",
   "execution_count": 55,
   "metadata": {},
   "outputs": [
    {
     "data": {
      "text/plain": [
       "50"
      ]
     },
     "execution_count": 55,
     "metadata": {},
     "output_type": "execute_result"
    }
   ],
   "source": [
    "#number of very unhealthy days in 2013:\n",
    "len(vdf6_2013[vdf6_2013['Value'] <= 250.4])- len(vdf6_2013[vdf6_2013['Value'] <= 150.4])"
   ]
  },
  {
   "cell_type": "code",
   "execution_count": 56,
   "metadata": {},
   "outputs": [
    {
     "data": {
      "text/plain": [
       "21"
      ]
     },
     "execution_count": 56,
     "metadata": {},
     "output_type": "execute_result"
    }
   ],
   "source": [
    "#number of hazardous days in 2013:\n",
    "len(vdf6_2013[vdf6_2013['Value'] <= 500.4])-len(vdf6_2013[vdf6_2013['Value'] <= 250.4])"
   ]
  },
  {
   "cell_type": "code",
   "execution_count": 57,
   "metadata": {},
   "outputs": [
    {
     "data": {
      "text/plain": [
       "365"
      ]
     },
     "execution_count": 57,
     "metadata": {},
     "output_type": "execute_result"
    }
   ],
   "source": [
    "len(vdf6_2013)"
   ]
  },
  {
   "cell_type": "code",
   "execution_count": 58,
   "metadata": {},
   "outputs": [
    {
     "data": {
      "text/plain": [
       "11"
      ]
     },
     "execution_count": 58,
     "metadata": {},
     "output_type": "execute_result"
    }
   ],
   "source": [
    "df7 = pd.read_csv(\"Beijing_2014_HourlyPM25_created20150203.csv\", encoding='latin1')\n",
    "df7['QC Name'].astype(str)\n",
    "vdf7 = df7[df7['QC Name'].str.contains(\"Missing\") == False]\n",
    "vdf7_2014 = vdf7.groupby([\"Year\", \"Month\", \"Day\"]).Value.mean().reset_index()\n",
    "vdf7_2014.sort_values(by=['Value'])\n",
    "\n",
    "#number of Good days in all of 2014:\n",
    "len(vdf7_2014[vdf7_2014['Value'] <= 12])"
   ]
  },
  {
   "cell_type": "code",
   "execution_count": 59,
   "metadata": {},
   "outputs": [
    {
     "data": {
      "text/plain": [
       "68"
      ]
     },
     "execution_count": 59,
     "metadata": {},
     "output_type": "execute_result"
    }
   ],
   "source": [
    "#number of Moderate days in all of 2014, minus the good days:\n",
    "len(vdf7_2014[vdf7_2014['Value'] <= 35.4]) -len(vdf7_2014[vdf7_2014['Value'] <= 12])"
   ]
  },
  {
   "cell_type": "code",
   "execution_count": 60,
   "metadata": {},
   "outputs": [
    {
     "data": {
      "text/plain": [
       "50"
      ]
     },
     "execution_count": 60,
     "metadata": {},
     "output_type": "execute_result"
    }
   ],
   "source": [
    "#number unhealthy days for sensitive groups in 2014, minus good and moderate:\n",
    "len(vdf7_2014[vdf7_2014['Value'] <= 55.4]) -len(vdf7_2014[vdf7_2014['Value'] <= 35.4])"
   ]
  },
  {
   "cell_type": "code",
   "execution_count": 61,
   "metadata": {},
   "outputs": [
    {
     "data": {
      "text/plain": [
       "171"
      ]
     },
     "execution_count": 61,
     "metadata": {},
     "output_type": "execute_result"
    }
   ],
   "source": [
    "#number of unhealthy days in 2014, minus good and moderate and unhealthy for sensitive:\n",
    "len(vdf7_2014[vdf7_2014['Value'] <= 150.4]) -len(vdf7_2014[vdf7_2014['Value'] <= 55.4])"
   ]
  },
  {
   "cell_type": "code",
   "execution_count": 62,
   "metadata": {},
   "outputs": [
    {
     "data": {
      "text/plain": [
       "40"
      ]
     },
     "execution_count": 62,
     "metadata": {},
     "output_type": "execute_result"
    }
   ],
   "source": [
    "#number of very unhealthy days in 2014:\n",
    "len(vdf7_2014[vdf7_2014['Value'] <= 250.4]) -len(vdf7_2014[vdf7_2014['Value'] <= 150.4])"
   ]
  },
  {
   "cell_type": "code",
   "execution_count": 63,
   "metadata": {},
   "outputs": [
    {
     "data": {
      "text/plain": [
       "25"
      ]
     },
     "execution_count": 63,
     "metadata": {},
     "output_type": "execute_result"
    }
   ],
   "source": [
    "#number of hazardous days in 2014:\n",
    "len(vdf7_2014[vdf7_2014['Value'] <= 500.4]) -len(vdf7_2014[vdf7_2014['Value'] <= 250.4])"
   ]
  },
  {
   "cell_type": "code",
   "execution_count": 64,
   "metadata": {},
   "outputs": [
    {
     "data": {
      "text/plain": [
       "0"
      ]
     },
     "execution_count": 64,
     "metadata": {},
     "output_type": "execute_result"
    }
   ],
   "source": [
    "365-len(vdf7_2014)"
   ]
  },
  {
   "cell_type": "code",
   "execution_count": 65,
   "metadata": {},
   "outputs": [
    {
     "data": {
      "text/plain": [
       "23"
      ]
     },
     "execution_count": 65,
     "metadata": {},
     "output_type": "execute_result"
    }
   ],
   "source": [
    "df8 = pd.read_csv(\"Beijing_2015_HourlyPM25_created20160201.csv\", encoding='latin1')\n",
    "df8['QC Name'].astype(str)\n",
    "vdf8 = df8[df8['QC Name'].str.contains(\"Missing\") == False]\n",
    "vdf8_2015 = vdf8.groupby([\"Year\", \"Month\", \"Day\"]).Value.mean().reset_index()\n",
    "vdf8_2015.sort_values(by=['Value'])\n",
    "\n",
    "#number of Good days in all of 2015:\n",
    "len(vdf8_2015[vdf8_2015['Value'] <= 12])"
   ]
  },
  {
   "cell_type": "code",
   "execution_count": 66,
   "metadata": {},
   "outputs": [
    {
     "data": {
      "text/plain": [
       "78"
      ]
     },
     "execution_count": 66,
     "metadata": {},
     "output_type": "execute_result"
    }
   ],
   "source": [
    "#number of Moderate days in all of 2015, minus the good days:\n",
    "len(vdf8_2015[vdf8_2015['Value'] <= 35.4]) -len(vdf8_2015[vdf8_2015['Value'] <= 12])"
   ]
  },
  {
   "cell_type": "code",
   "execution_count": 67,
   "metadata": {},
   "outputs": [
    {
     "data": {
      "text/plain": [
       "72"
      ]
     },
     "execution_count": 67,
     "metadata": {},
     "output_type": "execute_result"
    }
   ],
   "source": [
    "#number unhealthy days for sensitive groups in 2015, minus good and moderate:\n",
    "len(vdf8_2015[vdf8_2015['Value'] <= 55.4]) -len(vdf8_2015[vdf8_2015['Value'] <= 35.4])"
   ]
  },
  {
   "cell_type": "code",
   "execution_count": 68,
   "metadata": {},
   "outputs": [
    {
     "data": {
      "text/plain": [
       "140"
      ]
     },
     "execution_count": 68,
     "metadata": {},
     "output_type": "execute_result"
    }
   ],
   "source": [
    "#number of unhealthy days in 2015, minus good and moderate and unhealthy for sensitive:\n",
    "len(vdf8_2015[vdf8_2015['Value'] <= 150.4]) -len(vdf8_2015[vdf8_2015['Value'] <= 55.4])"
   ]
  },
  {
   "cell_type": "code",
   "execution_count": 69,
   "metadata": {},
   "outputs": [
    {
     "data": {
      "text/plain": [
       "34"
      ]
     },
     "execution_count": 69,
     "metadata": {},
     "output_type": "execute_result"
    }
   ],
   "source": [
    "#number of very unhealthy days in 2015:\n",
    "len(vdf8_2015[vdf8_2015['Value'] <= 250.4]) -len(vdf8_2015[vdf8_2015['Value'] <= 150.4])"
   ]
  },
  {
   "cell_type": "code",
   "execution_count": 70,
   "metadata": {},
   "outputs": [
    {
     "data": {
      "text/plain": [
       "17"
      ]
     },
     "execution_count": 70,
     "metadata": {},
     "output_type": "execute_result"
    }
   ],
   "source": [
    "#number of hazardous days in 2015:\n",
    "len(vdf8_2015[vdf8_2015['Value'] <= 500.4]) -len(vdf8_2015[vdf8_2015['Value'] <= 250.4])"
   ]
  },
  {
   "cell_type": "code",
   "execution_count": 71,
   "metadata": {},
   "outputs": [
    {
     "data": {
      "text/plain": [
       "0"
      ]
     },
     "execution_count": 71,
     "metadata": {},
     "output_type": "execute_result"
    }
   ],
   "source": [
    "#missing days:\n",
    "365 - len(vdf8_2015)"
   ]
  },
  {
   "cell_type": "code",
   "execution_count": 72,
   "metadata": {},
   "outputs": [
    {
     "data": {
      "text/plain": [
       "25"
      ]
     },
     "execution_count": 72,
     "metadata": {},
     "output_type": "execute_result"
    }
   ],
   "source": [
    "df9 = pd.read_csv(\"Beijing_2016_HourlyPM25_created20170201.csv\", encoding='latin1')\n",
    "df9['QC Name'].astype(str)\n",
    "vdf9 = df9[df9['QC Name'].str.contains(\"Missing\") == False]\n",
    "vdf9_2016 = vdf9.groupby([\"Year\", \"Month\", \"Day\"]).Value.mean().reset_index()\n",
    "vdf9_2016.sort_values(by=['Value'])\n",
    "\n",
    "#number of Good days in all of 2016:\n",
    "len(vdf9_2016[vdf9_2016['Value'] <= 12])"
   ]
  },
  {
   "cell_type": "code",
   "execution_count": 73,
   "metadata": {},
   "outputs": [
    {
     "data": {
      "text/plain": [
       "98"
      ]
     },
     "execution_count": 73,
     "metadata": {},
     "output_type": "execute_result"
    }
   ],
   "source": [
    "#number of Moderate days in all of 2016, minus the good days:\n",
    "len(vdf9_2016[vdf9_2016['Value'] <= 35.4]) -len(vdf9_2016[vdf9_2016['Value'] <= 12])"
   ]
  },
  {
   "cell_type": "code",
   "execution_count": 74,
   "metadata": {},
   "outputs": [
    {
     "data": {
      "text/plain": [
       "58"
      ]
     },
     "execution_count": 74,
     "metadata": {},
     "output_type": "execute_result"
    }
   ],
   "source": [
    "#number unhealthy days for sensitive groups in 2016, minus good and moderate:\n",
    "len(vdf9_2016[vdf9_2016['Value'] <= 55.4]) -len(vdf9_2016[vdf9_2016['Value'] <= 35.4])"
   ]
  },
  {
   "cell_type": "code",
   "execution_count": 75,
   "metadata": {},
   "outputs": [
    {
     "data": {
      "text/plain": [
       "146"
      ]
     },
     "execution_count": 75,
     "metadata": {},
     "output_type": "execute_result"
    }
   ],
   "source": [
    "#number of unhealthy days in 2016, minus good and moderate and unhealthy for sensitive:\n",
    "len(vdf9_2016[vdf9_2016['Value'] <= 150.4]) -len(vdf9_2016[vdf9_2016['Value'] <= 55.4])"
   ]
  },
  {
   "cell_type": "code",
   "execution_count": 76,
   "metadata": {},
   "outputs": [
    {
     "data": {
      "text/plain": [
       "28"
      ]
     },
     "execution_count": 76,
     "metadata": {},
     "output_type": "execute_result"
    }
   ],
   "source": [
    "#number of very unhealthy days in 2016:\n",
    "len(vdf9_2016[vdf9_2016['Value'] <= 250.4]) -len(vdf9_2016[vdf9_2016['Value'] <= 150.4])"
   ]
  },
  {
   "cell_type": "code",
   "execution_count": 77,
   "metadata": {},
   "outputs": [
    {
     "data": {
      "text/plain": [
       "11"
      ]
     },
     "execution_count": 77,
     "metadata": {},
     "output_type": "execute_result"
    }
   ],
   "source": [
    "#number of hazardous days in 2016:\n",
    "len(vdf9_2016[vdf9_2016['Value'] <= 500.4]) -len(vdf9_2016[vdf9_2016['Value'] <= 250.4])"
   ]
  },
  {
   "cell_type": "code",
   "execution_count": 78,
   "metadata": {},
   "outputs": [
    {
     "data": {
      "text/plain": [
       "0"
      ]
     },
     "execution_count": 78,
     "metadata": {},
     "output_type": "execute_result"
    }
   ],
   "source": [
    "#there are 366 days in 2016:\n",
    "366-len(vdf9_2016)"
   ]
  },
  {
   "cell_type": "code",
   "execution_count": null,
   "metadata": {},
   "outputs": [],
   "source": []
  },
  {
   "cell_type": "code",
   "execution_count": 79,
   "metadata": {},
   "outputs": [
    {
     "data": {
      "text/plain": [
       "10"
      ]
     },
     "execution_count": 79,
     "metadata": {},
     "output_type": "execute_result"
    }
   ],
   "source": [
    "df10 = pd.read_csv(\"Beijing_2017_HourlyPM25_created20170803.csv\", encoding='latin1')\n",
    "df10['QC Name'].astype(str)\n",
    "vdf10 = df10[df10['QC Name'].str.contains(\"Missing\") == False]\n",
    "vdf10_2017 = vdf10.groupby([\"Year\", \"Month\", \"Day\"]).Value.mean().reset_index()\n",
    "vdf10_2017.sort_values(by=['Value'])\n",
    "\n",
    "#number of Good days in all of 2017:\n",
    "len(vdf10_2017[vdf10_2017['Value'] <= 12])"
   ]
  },
  {
   "cell_type": "code",
   "execution_count": 80,
   "metadata": {},
   "outputs": [
    {
     "data": {
      "text/plain": [
       "56"
      ]
     },
     "execution_count": 80,
     "metadata": {},
     "output_type": "execute_result"
    }
   ],
   "source": [
    "#number of Moderate days in all of 2017, minus the good days:\n",
    "len(vdf10_2017[vdf10_2017['Value'] <= 35.4]) -len(vdf10_2017[vdf10_2017['Value'] <= 12])"
   ]
  },
  {
   "cell_type": "code",
   "execution_count": 81,
   "metadata": {},
   "outputs": [
    {
     "data": {
      "text/plain": [
       "40"
      ]
     },
     "execution_count": 81,
     "metadata": {},
     "output_type": "execute_result"
    }
   ],
   "source": [
    "#number unhealthy days for sensitive groups in 2017, minus good and moderate:\n",
    "len(vdf10_2017[vdf10_2017['Value'] <= 55.4]) -len(vdf10_2017[vdf10_2017['Value'] <= 35.4])"
   ]
  },
  {
   "cell_type": "code",
   "execution_count": 82,
   "metadata": {},
   "outputs": [
    {
     "data": {
      "text/plain": [
       "58"
      ]
     },
     "execution_count": 82,
     "metadata": {},
     "output_type": "execute_result"
    }
   ],
   "source": [
    "#number of unhealthy days in 2017, minus good and moderate and unhealthy for sensitive:\n",
    "len(vdf10_2017[vdf10_2017['Value'] <= 150.4]) -len(vdf10_2017[vdf10_2017['Value'] <= 55.4])"
   ]
  },
  {
   "cell_type": "code",
   "execution_count": 83,
   "metadata": {},
   "outputs": [
    {
     "data": {
      "text/plain": [
       "11"
      ]
     },
     "execution_count": 83,
     "metadata": {},
     "output_type": "execute_result"
    }
   ],
   "source": [
    "#number of very unhealthy days in 2017:\n",
    "len(vdf10_2017[vdf10_2017['Value'] <= 250.4]) -len(vdf10_2017[vdf10_2017['Value'] <= 150.4])"
   ]
  },
  {
   "cell_type": "code",
   "execution_count": 84,
   "metadata": {},
   "outputs": [
    {
     "data": {
      "text/plain": [
       "6"
      ]
     },
     "execution_count": 84,
     "metadata": {},
     "output_type": "execute_result"
    }
   ],
   "source": [
    "#number of hazardous days in 2017:\n",
    "len(vdf10_2017[vdf10_2017['Value'] <= 500.4]) -len(vdf10_2017[vdf10_2017['Value'] <= 250.4])"
   ]
  },
  {
   "cell_type": "code",
   "execution_count": 85,
   "metadata": {},
   "outputs": [
    {
     "data": {
      "text/plain": [
       "184"
      ]
     },
     "execution_count": 85,
     "metadata": {},
     "output_type": "execute_result"
    }
   ],
   "source": [
    "365-len(vdf10_2017)"
   ]
  },
  {
   "cell_type": "code",
   "execution_count": 86,
   "metadata": {},
   "outputs": [],
   "source": [
    "#Because 2017 has too many missing values, I analyzed the @BeijingAir twitter feed to find the rest of 2017. @BeijingAir's values are from the US embassy's air polution monitor"
   ]
  },
  {
   "cell_type": "code",
   "execution_count": 88,
   "metadata": {},
   "outputs": [
    {
     "ename": "FileNotFoundError",
     "evalue": "File b'beijiing_air_2017_twitter.csv' does not exist",
     "output_type": "error",
     "traceback": [
      "\u001b[0;31m---------------------------------------------------------------------------\u001b[0m",
      "\u001b[0;31mFileNotFoundError\u001b[0m                         Traceback (most recent call last)",
      "\u001b[0;32m<ipython-input-88-28d84d3b5294>\u001b[0m in \u001b[0;36m<module>\u001b[0;34m()\u001b[0m\n\u001b[0;32m----> 1\u001b[0;31m \u001b[0mtwit_df\u001b[0m \u001b[0;34m=\u001b[0m \u001b[0mpd\u001b[0m\u001b[0;34m.\u001b[0m\u001b[0mread_csv\u001b[0m\u001b[0;34m(\u001b[0m\u001b[0;34m\"beijiing_air_2017_twitter.csv\"\u001b[0m\u001b[0;34m,\u001b[0m \u001b[0mencoding\u001b[0m\u001b[0;34m=\u001b[0m\u001b[0;34m'UTF-8'\u001b[0m\u001b[0;34m)\u001b[0m\u001b[0;34m\u001b[0m\u001b[0m\n\u001b[0m",
      "\u001b[0;32m~/.pyenv/versions/3.6.5/lib/python3.6/site-packages/pandas/io/parsers.py\u001b[0m in \u001b[0;36mparser_f\u001b[0;34m(filepath_or_buffer, sep, delimiter, header, names, index_col, usecols, squeeze, prefix, mangle_dupe_cols, dtype, engine, converters, true_values, false_values, skipinitialspace, skiprows, nrows, na_values, keep_default_na, na_filter, verbose, skip_blank_lines, parse_dates, infer_datetime_format, keep_date_col, date_parser, dayfirst, iterator, chunksize, compression, thousands, decimal, lineterminator, quotechar, quoting, escapechar, comment, encoding, dialect, tupleize_cols, error_bad_lines, warn_bad_lines, skipfooter, doublequote, delim_whitespace, low_memory, memory_map, float_precision)\u001b[0m\n\u001b[1;32m    676\u001b[0m                     skip_blank_lines=skip_blank_lines)\n\u001b[1;32m    677\u001b[0m \u001b[0;34m\u001b[0m\u001b[0m\n\u001b[0;32m--> 678\u001b[0;31m         \u001b[0;32mreturn\u001b[0m \u001b[0m_read\u001b[0m\u001b[0;34m(\u001b[0m\u001b[0mfilepath_or_buffer\u001b[0m\u001b[0;34m,\u001b[0m \u001b[0mkwds\u001b[0m\u001b[0;34m)\u001b[0m\u001b[0;34m\u001b[0m\u001b[0m\n\u001b[0m\u001b[1;32m    679\u001b[0m \u001b[0;34m\u001b[0m\u001b[0m\n\u001b[1;32m    680\u001b[0m     \u001b[0mparser_f\u001b[0m\u001b[0;34m.\u001b[0m\u001b[0m__name__\u001b[0m \u001b[0;34m=\u001b[0m \u001b[0mname\u001b[0m\u001b[0;34m\u001b[0m\u001b[0m\n",
      "\u001b[0;32m~/.pyenv/versions/3.6.5/lib/python3.6/site-packages/pandas/io/parsers.py\u001b[0m in \u001b[0;36m_read\u001b[0;34m(filepath_or_buffer, kwds)\u001b[0m\n\u001b[1;32m    438\u001b[0m \u001b[0;34m\u001b[0m\u001b[0m\n\u001b[1;32m    439\u001b[0m     \u001b[0;31m# Create the parser.\u001b[0m\u001b[0;34m\u001b[0m\u001b[0;34m\u001b[0m\u001b[0m\n\u001b[0;32m--> 440\u001b[0;31m     \u001b[0mparser\u001b[0m \u001b[0;34m=\u001b[0m \u001b[0mTextFileReader\u001b[0m\u001b[0;34m(\u001b[0m\u001b[0mfilepath_or_buffer\u001b[0m\u001b[0;34m,\u001b[0m \u001b[0;34m**\u001b[0m\u001b[0mkwds\u001b[0m\u001b[0;34m)\u001b[0m\u001b[0;34m\u001b[0m\u001b[0m\n\u001b[0m\u001b[1;32m    441\u001b[0m \u001b[0;34m\u001b[0m\u001b[0m\n\u001b[1;32m    442\u001b[0m     \u001b[0;32mif\u001b[0m \u001b[0mchunksize\u001b[0m \u001b[0;32mor\u001b[0m \u001b[0miterator\u001b[0m\u001b[0;34m:\u001b[0m\u001b[0;34m\u001b[0m\u001b[0m\n",
      "\u001b[0;32m~/.pyenv/versions/3.6.5/lib/python3.6/site-packages/pandas/io/parsers.py\u001b[0m in \u001b[0;36m__init__\u001b[0;34m(self, f, engine, **kwds)\u001b[0m\n\u001b[1;32m    785\u001b[0m             \u001b[0mself\u001b[0m\u001b[0;34m.\u001b[0m\u001b[0moptions\u001b[0m\u001b[0;34m[\u001b[0m\u001b[0;34m'has_index_names'\u001b[0m\u001b[0;34m]\u001b[0m \u001b[0;34m=\u001b[0m \u001b[0mkwds\u001b[0m\u001b[0;34m[\u001b[0m\u001b[0;34m'has_index_names'\u001b[0m\u001b[0;34m]\u001b[0m\u001b[0;34m\u001b[0m\u001b[0m\n\u001b[1;32m    786\u001b[0m \u001b[0;34m\u001b[0m\u001b[0m\n\u001b[0;32m--> 787\u001b[0;31m         \u001b[0mself\u001b[0m\u001b[0;34m.\u001b[0m\u001b[0m_make_engine\u001b[0m\u001b[0;34m(\u001b[0m\u001b[0mself\u001b[0m\u001b[0;34m.\u001b[0m\u001b[0mengine\u001b[0m\u001b[0;34m)\u001b[0m\u001b[0;34m\u001b[0m\u001b[0m\n\u001b[0m\u001b[1;32m    788\u001b[0m \u001b[0;34m\u001b[0m\u001b[0m\n\u001b[1;32m    789\u001b[0m     \u001b[0;32mdef\u001b[0m \u001b[0mclose\u001b[0m\u001b[0;34m(\u001b[0m\u001b[0mself\u001b[0m\u001b[0;34m)\u001b[0m\u001b[0;34m:\u001b[0m\u001b[0;34m\u001b[0m\u001b[0m\n",
      "\u001b[0;32m~/.pyenv/versions/3.6.5/lib/python3.6/site-packages/pandas/io/parsers.py\u001b[0m in \u001b[0;36m_make_engine\u001b[0;34m(self, engine)\u001b[0m\n\u001b[1;32m   1012\u001b[0m     \u001b[0;32mdef\u001b[0m \u001b[0m_make_engine\u001b[0m\u001b[0;34m(\u001b[0m\u001b[0mself\u001b[0m\u001b[0;34m,\u001b[0m \u001b[0mengine\u001b[0m\u001b[0;34m=\u001b[0m\u001b[0;34m'c'\u001b[0m\u001b[0;34m)\u001b[0m\u001b[0;34m:\u001b[0m\u001b[0;34m\u001b[0m\u001b[0m\n\u001b[1;32m   1013\u001b[0m         \u001b[0;32mif\u001b[0m \u001b[0mengine\u001b[0m \u001b[0;34m==\u001b[0m \u001b[0;34m'c'\u001b[0m\u001b[0;34m:\u001b[0m\u001b[0;34m\u001b[0m\u001b[0m\n\u001b[0;32m-> 1014\u001b[0;31m             \u001b[0mself\u001b[0m\u001b[0;34m.\u001b[0m\u001b[0m_engine\u001b[0m \u001b[0;34m=\u001b[0m \u001b[0mCParserWrapper\u001b[0m\u001b[0;34m(\u001b[0m\u001b[0mself\u001b[0m\u001b[0;34m.\u001b[0m\u001b[0mf\u001b[0m\u001b[0;34m,\u001b[0m \u001b[0;34m**\u001b[0m\u001b[0mself\u001b[0m\u001b[0;34m.\u001b[0m\u001b[0moptions\u001b[0m\u001b[0;34m)\u001b[0m\u001b[0;34m\u001b[0m\u001b[0m\n\u001b[0m\u001b[1;32m   1015\u001b[0m         \u001b[0;32melse\u001b[0m\u001b[0;34m:\u001b[0m\u001b[0;34m\u001b[0m\u001b[0m\n\u001b[1;32m   1016\u001b[0m             \u001b[0;32mif\u001b[0m \u001b[0mengine\u001b[0m \u001b[0;34m==\u001b[0m \u001b[0;34m'python'\u001b[0m\u001b[0;34m:\u001b[0m\u001b[0;34m\u001b[0m\u001b[0m\n",
      "\u001b[0;32m~/.pyenv/versions/3.6.5/lib/python3.6/site-packages/pandas/io/parsers.py\u001b[0m in \u001b[0;36m__init__\u001b[0;34m(self, src, **kwds)\u001b[0m\n\u001b[1;32m   1706\u001b[0m         \u001b[0mkwds\u001b[0m\u001b[0;34m[\u001b[0m\u001b[0;34m'usecols'\u001b[0m\u001b[0;34m]\u001b[0m \u001b[0;34m=\u001b[0m \u001b[0mself\u001b[0m\u001b[0;34m.\u001b[0m\u001b[0musecols\u001b[0m\u001b[0;34m\u001b[0m\u001b[0m\n\u001b[1;32m   1707\u001b[0m \u001b[0;34m\u001b[0m\u001b[0m\n\u001b[0;32m-> 1708\u001b[0;31m         \u001b[0mself\u001b[0m\u001b[0;34m.\u001b[0m\u001b[0m_reader\u001b[0m \u001b[0;34m=\u001b[0m \u001b[0mparsers\u001b[0m\u001b[0;34m.\u001b[0m\u001b[0mTextReader\u001b[0m\u001b[0;34m(\u001b[0m\u001b[0msrc\u001b[0m\u001b[0;34m,\u001b[0m \u001b[0;34m**\u001b[0m\u001b[0mkwds\u001b[0m\u001b[0;34m)\u001b[0m\u001b[0;34m\u001b[0m\u001b[0m\n\u001b[0m\u001b[1;32m   1709\u001b[0m \u001b[0;34m\u001b[0m\u001b[0m\n\u001b[1;32m   1710\u001b[0m         \u001b[0mpassed_names\u001b[0m \u001b[0;34m=\u001b[0m \u001b[0mself\u001b[0m\u001b[0;34m.\u001b[0m\u001b[0mnames\u001b[0m \u001b[0;32mis\u001b[0m \u001b[0;32mNone\u001b[0m\u001b[0;34m\u001b[0m\u001b[0m\n",
      "\u001b[0;32mpandas/_libs/parsers.pyx\u001b[0m in \u001b[0;36mpandas._libs.parsers.TextReader.__cinit__\u001b[0;34m()\u001b[0m\n",
      "\u001b[0;32mpandas/_libs/parsers.pyx\u001b[0m in \u001b[0;36mpandas._libs.parsers.TextReader._setup_parser_source\u001b[0;34m()\u001b[0m\n",
      "\u001b[0;31mFileNotFoundError\u001b[0m: File b'beijiing_air_2017_twitter.csv' does not exist"
     ]
    }
   ],
   "source": [
    "twit_df = pd.read_csv(\"beijiing_air_2017_twitter.csv\", encoding='UTF-8')"
   ]
  },
  {
   "cell_type": "code",
   "execution_count": 1,
   "metadata": {},
   "outputs": [
    {
     "data": {
      "text/html": [
       "\n",
       "        <iframe\n",
       "            width=\"800\"\n",
       "            height=\"420\"\n",
       "            src=\"beijing_air.html\"\n",
       "            frameborder=\"0\"\n",
       "            allowfullscreen\n",
       "        ></iframe>\n",
       "        "
      ],
      "text/plain": [
       "<IPython.lib.display.IFrame at 0x10d0939b0>"
      ]
     },
     "execution_count": 1,
     "metadata": {},
     "output_type": "execute_result"
    }
   ],
   "source": [
    "from iplotter import GCPlotter\n",
    "\n",
    "plotter = GCPlotter()\n",
    "\n",
    "data = [\n",
    "    ['Air Quality', 'Good', 'Moderate', 'Unhealthy for Asthmatics', 'Unhealthy',\n",
    "     'Very Unhealthy', 'Hazardous', '24-Hour Avg PM 2.5 Data Unavailable', {\"role\": 'annotation'}],\n",
    "    ['2008', 4, 35, 30, 119, 24, 0, 153,''],\n",
    "    ['2009', 0, 46, 29, 170, 44, 12, 64, ''],\n",
    "    ['2010', 4, 53, 40, 176, 60, 18, 14,''],\n",
    "    ['2011', 2, 80, 52, 146, 57, 17, 11,''],\n",
    "    ['2012', 7, 84, 40, 160, 54, 10, 10,''],\n",
    "    ['2013', 5, 58, 54, 176, 50, 21, 0,''],\n",
    "    ['2014', 11, 68, 50, 171, 40, 25, 0, ''],\n",
    "    ['2015', 23, 78, 72, 140, 34, 17, 0, ''],\n",
    "    ['2016', 25, 98, 58, 146, 28, 11, 0, ''],\n",
    "    ['2017', 10, 56, 40, 58, 11, 6, 184, '']\n",
    "]\n",
    "\n",
    "options = {\n",
    "    \"title\": \"Is Beijing's Air Pollution Really Improving?\",\n",
    "    \"titleTextStyle\": {\"fontSize\": 25},\n",
    "    \"vAxis\": {\"gridlines\": { \"count\": 5 },\"viewWindow\": { \"min\": 0, \"max\": 366}, \"ticks\": [30, 180, 365]},\n",
    "    \"width\": 900,\n",
    "    \"height\": 600,\n",
    "    \"legend\": {\"position\": 'top', \"maxLines\": 3},\n",
    "    \"bar\": {\"groupWidth\": '98%'},\n",
    "    \"isStacked\": \"true\",\n",
    "    \"BucketItems\": \"true\",\n",
    "    \"gridlines\" : \"false\",\n",
    "    \"colors\": ['#cde5f7', '#dbe2e6', '#CDCDCD', '#A1A1A1', '#696969','#3D3D3D', '#f1f1f1',],\n",
    "    \"tooltip\" : {\"trigger\":'none'}\n",
    "}\n",
    "\n",
    "plotter.plot_and_save(data, chart_type=\"ColumnChart\",filename='beijing_air', chart_package='corechart', options=options)"
   ]
  },
  {
   "cell_type": "code",
   "execution_count": 102,
   "metadata": {},
   "outputs": [],
   "source": [
    "charts = [\"beijing_air\"]\n",
    "with VirtualBrowser() as browser:\n",
    "    for chart in charts:\n",
    "        browser.save_as_png(\n",
    "            filename=chart, width=900,\n",
    "            height=800)  # save html chart to filename + '.png'"
   ]
  },
  {
   "cell_type": "code",
   "execution_count": null,
   "metadata": {},
   "outputs": [],
   "source": []
  }
 ],
 "metadata": {
  "kernelspec": {
   "display_name": "Python 3",
   "language": "python",
   "name": "python3"
  },
  "language_info": {
   "codemirror_mode": {
    "name": "ipython",
    "version": 3
   },
   "file_extension": ".py",
   "mimetype": "text/x-python",
   "name": "python",
   "nbconvert_exporter": "python",
   "pygments_lexer": "ipython3",
   "version": "3.6.5"
  }
 },
 "nbformat": 4,
 "nbformat_minor": 2
}
