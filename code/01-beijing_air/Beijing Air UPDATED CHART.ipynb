{
 "cells": [
  {
   "cell_type": "code",
   "execution_count": 6,
   "metadata": {},
   "outputs": [],
   "source": [
    "import matplotlib.font_manager\n",
    "from IPython.core.display import HTML\n",
    "import pandas as pd\n",
    "import numpy as np\n",
    "import matplotlib.pyplot as plt\n",
    "%matplotlib inline\n",
    "import datetime\n"
   ]
  },
  {
   "cell_type": "code",
   "execution_count": 54,
   "metadata": {},
   "outputs": [],
   "source": [
    "df = pd.read_csv(\"Beijing_2008_HourlyPM2.5_created20140325.csv\", encoding='latin1')\n",
    "df['QC Name'].astype(str)\n",
    "vdf = df[df['QC Name'].str.contains(\"Missing\") == False]\n",
    "vdf_2008 = vdf.groupby([\"Year\", \"Month\", \"Day\"]).Value.mean().reset_index()\n",
    "#vdf_2008.plot(x='Month', kind='scatter', s=100, alpha=.5, y='Value', legend=True)"
   ]
  },
  {
   "cell_type": "code",
   "execution_count": 8,
   "metadata": {},
   "outputs": [
    {
     "data": {
      "text/plain": [
       "64"
      ]
     },
     "execution_count": 8,
     "metadata": {},
     "output_type": "execute_result"
    }
   ],
   "source": [
    "vdf_2008\n",
    "vdf_2008['Month'].astype(str)\n",
    "vdf_2008['Month'].head()\n",
    "#april_vdf08 = vdf_2008[vdf_2008['Month'] == 4]\n",
    "#april_vdf08 = april_vdf08.sort_values(by=['Value'])\n",
    "\n",
    "#number of Good days in all of 2008:\n",
    "len(vdf_2008[vdf_2008['Value'] <= 50])"
   ]
  },
  {
   "cell_type": "code",
   "execution_count": 90,
   "metadata": {},
   "outputs": [
    {
     "data": {
      "text/plain": [
       "75"
      ]
     },
     "execution_count": 90,
     "metadata": {},
     "output_type": "execute_result"
    }
   ],
   "source": [
    "#number of Moderate days in all of 2008:\n",
    "#Total number less than or equal to 100, minus the good days\n",
    "len(vdf_2008[vdf_2008['Value'] <= 100]) - 64"
   ]
  },
  {
   "cell_type": "code",
   "execution_count": 98,
   "metadata": {},
   "outputs": [
    {
     "data": {
      "text/plain": [
       "49"
      ]
     },
     "execution_count": 98,
     "metadata": {},
     "output_type": "execute_result"
    }
   ],
   "source": [
    "#number of days unhealthy for sensitive groups in 2008, minus good and minus moderate:\n",
    "len(vdf_2008[vdf_2008['Value'] <= 150]) -64 -75 "
   ]
  },
  {
   "cell_type": "code",
   "execution_count": 101,
   "metadata": {},
   "outputs": [
    {
     "data": {
      "text/plain": [
       "20"
      ]
     },
     "execution_count": 101,
     "metadata": {},
     "output_type": "execute_result"
    }
   ],
   "source": [
    "#number of days unhealthy days in 2008, minus good, moderate, and unhealthy for sensitive:\n",
    "len(vdf_2008[vdf_2008['Value'] <= 200]) -64 -75 -49"
   ]
  },
  {
   "cell_type": "code",
   "execution_count": 102,
   "metadata": {},
   "outputs": [
    {
     "data": {
      "text/plain": [
       "4"
      ]
     },
     "execution_count": 102,
     "metadata": {},
     "output_type": "execute_result"
    }
   ],
   "source": [
    "#number of very unhealthy days 2008, minus good, moderate, and unhealthy for sensitive:\n",
    "len(vdf_2008[vdf_2008['Value'] <= 300]) -64 -75 -49 -20"
   ]
  },
  {
   "cell_type": "code",
   "execution_count": 103,
   "metadata": {},
   "outputs": [
    {
     "data": {
      "text/plain": [
       "0"
      ]
     },
     "execution_count": 103,
     "metadata": {},
     "output_type": "execute_result"
    }
   ],
   "source": [
    "#number of hazardous days 2008, minus good, moderate, and unhealthy for sensitive, unhealthy, and very unhealthy:\n",
    "len(vdf_2008[vdf_2008['Value'] <= 500]) -64 -75 -49 -20 -4"
   ]
  },
  {
   "cell_type": "code",
   "execution_count": 105,
   "metadata": {},
   "outputs": [
    {
     "data": {
      "text/plain": [
       "212"
      ]
     },
     "execution_count": 105,
     "metadata": {},
     "output_type": "execute_result"
    }
   ],
   "source": [
    "#total number of days we know about, or have valid data:\n",
    "len(vdf_2008)"
   ]
  },
  {
   "cell_type": "code",
   "execution_count": 106,
   "metadata": {},
   "outputs": [
    {
     "data": {
      "text/plain": [
       "153"
      ]
     },
     "execution_count": 106,
     "metadata": {},
     "output_type": "execute_result"
    }
   ],
   "source": [
    "#unknown days in 2008:\n",
    "365 - len(vdf_2008)"
   ]
  },
  {
   "cell_type": "code",
   "execution_count": 122,
   "metadata": {},
   "outputs": [
    {
     "data": {
      "text/plain": [
       "69"
      ]
     },
     "execution_count": 122,
     "metadata": {},
     "output_type": "execute_result"
    }
   ],
   "source": [
    "df2 = pd.read_csv(\"Beijing_2009_HourlyPM25_created20140709.csv\", encoding='latin1')\n",
    "df2['QC Name'].astype(str)\n",
    "vdf2 = df2[df2['QC Name'].str.contains(\"Missing\") == False]\n",
    "vdf2_2009 = vdf2.groupby([\"Year\", \"Month\", \"Day\"]).Value.mean().reset_index()\n",
    "vdf2_2009.sort_values(by=['Value'])\n",
    "\n",
    "#number of Good days in all of 2009:\n",
    "len(vdf2_2009[vdf2_2009['Value'] <= 50])"
   ]
  },
  {
   "cell_type": "code",
   "execution_count": 130,
   "metadata": {},
   "outputs": [
    {
     "data": {
      "text/plain": [
       "102"
      ]
     },
     "execution_count": 130,
     "metadata": {},
     "output_type": "execute_result"
    }
   ],
   "source": [
    "#number of Moderate days in all of 2009:\n",
    "#Total number less than or equal to 100, minus the good days\n",
    "len(vdf2_2009[vdf2_2009['Value'] <= 100])-69"
   ]
  },
  {
   "cell_type": "code",
   "execution_count": 132,
   "metadata": {},
   "outputs": [
    {
     "data": {
      "text/plain": [
       "74"
      ]
     },
     "execution_count": 132,
     "metadata": {},
     "output_type": "execute_result"
    }
   ],
   "source": [
    "#number of days unhealthy for sensitive groups in 2009, minus good and minus moderate:\n",
    "len(vdf2_2009[vdf2_2009['Value'] <= 150])-69-102"
   ]
  },
  {
   "cell_type": "code",
   "execution_count": 133,
   "metadata": {},
   "outputs": [
    {
     "data": {
      "text/plain": [
       "27"
      ]
     },
     "execution_count": 133,
     "metadata": {},
     "output_type": "execute_result"
    }
   ],
   "source": [
    "#number of days unhealthy days in 2009, minus good and minus moderate and unhealthy for sensitive:\n",
    "len(vdf2_2009[vdf2_2009['Value'] <= 200])-69-102-74"
   ]
  },
  {
   "cell_type": "code",
   "execution_count": 134,
   "metadata": {},
   "outputs": [
    {
     "data": {
      "text/plain": [
       "25"
      ]
     },
     "execution_count": 134,
     "metadata": {},
     "output_type": "execute_result"
    }
   ],
   "source": [
    "#number of days very unhealthy days in 2009:\n",
    "len(vdf2_2009[vdf2_2009['Value'] <= 300])-69-102-74-27"
   ]
  },
  {
   "cell_type": "code",
   "execution_count": 158,
   "metadata": {},
   "outputs": [
    {
     "data": {
      "text/plain": [
       "4"
      ]
     },
     "execution_count": 158,
     "metadata": {},
     "output_type": "execute_result"
    }
   ],
   "source": [
    "#number of days hazardous days in 2009:\n",
    "len(vdf2_2009[vdf2_2009['Value'] <= 500])-69-102-74-27-25"
   ]
  },
  {
   "cell_type": "code",
   "execution_count": 137,
   "metadata": {},
   "outputs": [
    {
     "data": {
      "text/plain": [
       "64"
      ]
     },
     "execution_count": 137,
     "metadata": {},
     "output_type": "execute_result"
    }
   ],
   "source": [
    "#missing values:\n",
    "len(vdf2_2009)\n",
    "365-len(vdf2_2009)"
   ]
  },
  {
   "cell_type": "code",
   "execution_count": 139,
   "metadata": {},
   "outputs": [
    {
     "data": {
      "text/plain": [
       "88"
      ]
     },
     "execution_count": 139,
     "metadata": {},
     "output_type": "execute_result"
    }
   ],
   "source": [
    "df3 = pd.read_csv(\"Beijing_2010_HourlyPM25_created20140709.csv\", encoding='latin1')\n",
    "df3['QC Name'].astype(str)\n",
    "vdf3 = df3[df3['QC Name'].str.contains(\"Missing\") == False]\n",
    "vdf3_2010 = vdf3.groupby([\"Year\", \"Month\", \"Day\"]).Value.mean().reset_index()\n",
    "vdf3_2010.sort_values(by=['Value'])\n",
    "\n",
    "#number of Good days in all of 2010:\n",
    "len(vdf3_2010[vdf3_2010['Value'] <= 50])"
   ]
  },
  {
   "cell_type": "code",
   "execution_count": 156,
   "metadata": {},
   "outputs": [
    {
     "data": {
      "text/plain": [
       "118"
      ]
     },
     "execution_count": 156,
     "metadata": {},
     "output_type": "execute_result"
    }
   ],
   "source": [
    "#number of Moderate days in all of 2010:\n",
    "#Total number less than or equal to 100, minus the good days\n",
    "len(vdf3_2010[vdf3_2010['Value'] <= 100])-88"
   ]
  },
  {
   "cell_type": "code",
   "execution_count": 157,
   "metadata": {},
   "outputs": [
    {
     "data": {
      "text/plain": [
       "67"
      ]
     },
     "execution_count": 157,
     "metadata": {},
     "output_type": "execute_result"
    }
   ],
   "source": [
    "#number of days unhealthy for sensitive groups in 2010, minus good and moderate:\n",
    "len(vdf3_2010[vdf3_2010['Value'] <= 150])-88-118"
   ]
  },
  {
   "cell_type": "code",
   "execution_count": 151,
   "metadata": {},
   "outputs": [
    {
     "data": {
      "text/plain": [
       "42"
      ]
     },
     "execution_count": 151,
     "metadata": {},
     "output_type": "execute_result"
    }
   ],
   "source": [
    "#number of days unhealthy days in 2010, minus good and minus moderate and unhealthy for sensitive:\n",
    "len(vdf3_2010[vdf3_2010['Value'] <= 200])-88-118-67"
   ]
  },
  {
   "cell_type": "code",
   "execution_count": 152,
   "metadata": {},
   "outputs": [
    {
     "data": {
      "text/plain": [
       "26"
      ]
     },
     "execution_count": 152,
     "metadata": {},
     "output_type": "execute_result"
    }
   ],
   "source": [
    "#number of days very unhealthy days in 2010:\n",
    "len(vdf3_2010[vdf3_2010['Value'] <= 300])-88-118-67-42"
   ]
  },
  {
   "cell_type": "code",
   "execution_count": 159,
   "metadata": {},
   "outputs": [
    {
     "data": {
      "text/plain": [
       "10"
      ]
     },
     "execution_count": 159,
     "metadata": {},
     "output_type": "execute_result"
    }
   ],
   "source": [
    "#number of days hazardous days in 2010:\n",
    "len(vdf3_2010[vdf3_2010['Value'] <= 500])-88-118-67-42-26"
   ]
  },
  {
   "cell_type": "code",
   "execution_count": 146,
   "metadata": {},
   "outputs": [],
   "source": [
    "#len(vdf3_2010)"
   ]
  },
  {
   "cell_type": "code",
   "execution_count": 154,
   "metadata": {},
   "outputs": [
    {
     "data": {
      "text/plain": [
       "14"
      ]
     },
     "execution_count": 154,
     "metadata": {},
     "output_type": "execute_result"
    }
   ],
   "source": [
    "365-len(vdf3_2010)"
   ]
  },
  {
   "cell_type": "code",
   "execution_count": 160,
   "metadata": {},
   "outputs": [
    {
     "data": {
      "text/plain": [
       "122"
      ]
     },
     "execution_count": 160,
     "metadata": {},
     "output_type": "execute_result"
    }
   ],
   "source": [
    "df4 = pd.read_csv(\"Beijing_2011_HourlyPM25_created20140709.csv\", encoding='latin1')\n",
    "df4['QC Name'].astype(str)\n",
    "vdf4 = df4[df4['QC Name'].str.contains(\"Missing\") == False]\n",
    "vdf4_2011 = vdf4.groupby([\"Year\", \"Month\", \"Day\"]).Value.mean().reset_index()\n",
    "vdf4_2011.sort_values(by=['Value'])\n",
    "\n",
    "#number of Good days in all of 2011:\n",
    "len(vdf4_2011[vdf4_2011['Value'] <= 50])"
   ]
  },
  {
   "cell_type": "code",
   "execution_count": 161,
   "metadata": {},
   "outputs": [
    {
     "data": {
      "text/plain": [
       "86"
      ]
     },
     "execution_count": 161,
     "metadata": {},
     "output_type": "execute_result"
    }
   ],
   "source": [
    "#number of Moderate days in all of 2011, minus the good days:\n",
    "len(vdf4_2011[vdf4_2011['Value'] <= 100])-122"
   ]
  },
  {
   "cell_type": "code",
   "execution_count": 162,
   "metadata": {},
   "outputs": [
    {
     "data": {
      "text/plain": [
       "71"
      ]
     },
     "execution_count": 162,
     "metadata": {},
     "output_type": "execute_result"
    }
   ],
   "source": [
    "#number unhealthy days for sensitive groups in 2011, minus good and moderate:\n",
    "len(vdf4_2011[vdf4_2011['Value'] <= 150])-122-86"
   ]
  },
  {
   "cell_type": "code",
   "execution_count": 163,
   "metadata": {},
   "outputs": [
    {
     "data": {
      "text/plain": [
       "37"
      ]
     },
     "execution_count": 163,
     "metadata": {},
     "output_type": "execute_result"
    }
   ],
   "source": [
    "#number of days unhealthy days in 2011, minus good and moderate and unhealthy for sensitive:\n",
    "len(vdf4_2011[vdf4_2011['Value'] <= 200])-122-86-71"
   ]
  },
  {
   "cell_type": "code",
   "execution_count": 164,
   "metadata": {},
   "outputs": [
    {
     "data": {
      "text/plain": [
       "30"
      ]
     },
     "execution_count": 164,
     "metadata": {},
     "output_type": "execute_result"
    }
   ],
   "source": [
    "#number of days very unhealthy days in 2011:\n",
    "len(vdf4_2011[vdf4_2011['Value'] <= 300])-122-86-71-37"
   ]
  },
  {
   "cell_type": "code",
   "execution_count": 165,
   "metadata": {},
   "outputs": [
    {
     "data": {
      "text/plain": [
       "8"
      ]
     },
     "execution_count": 165,
     "metadata": {},
     "output_type": "execute_result"
    }
   ],
   "source": [
    "#number hazardous days in 2011:\n",
    "len(vdf4_2011[vdf4_2011['Value'] <= 500])-122-86-71-37-30"
   ]
  },
  {
   "cell_type": "code",
   "execution_count": 167,
   "metadata": {},
   "outputs": [
    {
     "data": {
      "text/plain": [
       "11"
      ]
     },
     "execution_count": 167,
     "metadata": {},
     "output_type": "execute_result"
    }
   ],
   "source": [
    "#days unknown:\n",
    "365-len(vdf4_2011)"
   ]
  },
  {
   "cell_type": "code",
   "execution_count": 192,
   "metadata": {},
   "outputs": [
    {
     "data": {
      "text/plain": [
       "119"
      ]
     },
     "execution_count": 192,
     "metadata": {},
     "output_type": "execute_result"
    }
   ],
   "source": [
    "df5 = pd.read_csv(\"Beijing_2012_HourlyPM2.5_created20140325.csv\", encoding='latin1')\n",
    "df5['QC Name'].astype(str)\n",
    "vdf5 = df5[df5['QC Name'].str.contains(\"Missing\") == False]\n",
    "vdf5_2012 = vdf5.groupby([\"Year\", \"Month\", \"Day\"]).Value.mean().reset_index()\n",
    "vdf5_2012.sort_values(by=['Value'])\n",
    "\n",
    "#number of Good days in all of 2012:\n",
    "len(vdf5_2012[vdf5_2012['Value'] <= 50])"
   ]
  },
  {
   "cell_type": "code",
   "execution_count": 195,
   "metadata": {},
   "outputs": [
    {
     "data": {
      "text/plain": [
       "100"
      ]
     },
     "execution_count": 195,
     "metadata": {},
     "output_type": "execute_result"
    }
   ],
   "source": [
    "#number of Moderate days in all of 2012, minus the good days:\n",
    "len(vdf5_2012[vdf5_2012['Value'] <= 100]) - 119"
   ]
  },
  {
   "cell_type": "code",
   "execution_count": 197,
   "metadata": {},
   "outputs": [
    {
     "data": {
      "text/plain": [
       "72"
      ]
     },
     "execution_count": 197,
     "metadata": {},
     "output_type": "execute_result"
    }
   ],
   "source": [
    "#number unhealthy days for sensitive groups in 2012, minus good and moderate:\n",
    "len(vdf5_2012[vdf5_2012['Value'] <= 150]) -119 -100"
   ]
  },
  {
   "cell_type": "code",
   "execution_count": 198,
   "metadata": {},
   "outputs": [
    {
     "data": {
      "text/plain": [
       "40"
      ]
     },
     "execution_count": 198,
     "metadata": {},
     "output_type": "execute_result"
    }
   ],
   "source": [
    "#number of days unhealthy days in 2012, minus good and moderate and unhealthy for sensitive:\n",
    "len(vdf5_2012[vdf5_2012['Value'] <= 200]) -119 -100 -72"
   ]
  },
  {
   "cell_type": "code",
   "execution_count": 199,
   "metadata": {},
   "outputs": [
    {
     "data": {
      "text/plain": [
       "21"
      ]
     },
     "execution_count": 199,
     "metadata": {},
     "output_type": "execute_result"
    }
   ],
   "source": [
    "#number of days very unhealthy days in 2012:\n",
    "len(vdf5_2012[vdf5_2012['Value'] <= 300]) -119 -100 -72 -40"
   ]
  },
  {
   "cell_type": "code",
   "execution_count": 218,
   "metadata": {},
   "outputs": [
    {
     "data": {
      "text/plain": [
       "3"
      ]
     },
     "execution_count": 218,
     "metadata": {},
     "output_type": "execute_result"
    }
   ],
   "source": [
    "#number of days hazardous days in 2012:\n",
    "len(vdf5_2012[vdf5_2012['Value'] <= 500]) -119 -100 -72 -40 -21"
   ]
  },
  {
   "cell_type": "code",
   "execution_count": 219,
   "metadata": {},
   "outputs": [
    {
     "data": {
      "text/plain": [
       "10"
      ]
     },
     "execution_count": 219,
     "metadata": {},
     "output_type": "execute_result"
    }
   ],
   "source": [
    "365-len(vdf5_2012)"
   ]
  },
  {
   "cell_type": "code",
   "execution_count": 206,
   "metadata": {},
   "outputs": [
    {
     "data": {
      "text/plain": [
       "102"
      ]
     },
     "execution_count": 206,
     "metadata": {},
     "output_type": "execute_result"
    }
   ],
   "source": [
    "df6 = pd.read_csv(\"Beijing_2013_HourlyPM2.5_created20140325.csv\", encoding='latin1')\n",
    "df6['QC Name'].astype(str)\n",
    "vdf6 = df6[df6['QC Name'].str.contains(\"Missing\") == False]\n",
    "vdf6_2013 = vdf6.groupby([\"Year\", \"Month\", \"Day\"]).Value.mean().reset_index()\n",
    "vdf6_2013.sort_values(by=['Value'])\n",
    "\n",
    "#number of Good days in all of 2013:\n",
    "len(vdf6_2013[vdf6_2013['Value'] <= 50])"
   ]
  },
  {
   "cell_type": "code",
   "execution_count": 207,
   "metadata": {},
   "outputs": [
    {
     "data": {
      "text/plain": [
       "128"
      ]
     },
     "execution_count": 207,
     "metadata": {},
     "output_type": "execute_result"
    }
   ],
   "source": [
    "#number of Moderate days in all of 2013, minus the good days:\n",
    "len(vdf6_2013[vdf6_2013['Value'] <= 100])-102"
   ]
  },
  {
   "cell_type": "code",
   "execution_count": 208,
   "metadata": {},
   "outputs": [
    {
     "data": {
      "text/plain": [
       "63"
      ]
     },
     "execution_count": 208,
     "metadata": {},
     "output_type": "execute_result"
    }
   ],
   "source": [
    "#number unhealthy days for sensitive groups in 2013, minus good and moderate:\n",
    "len(vdf6_2013[vdf6_2013['Value'] <= 150])-102-128"
   ]
  },
  {
   "cell_type": "code",
   "execution_count": 211,
   "metadata": {},
   "outputs": [
    {
     "data": {
      "text/plain": [
       "31"
      ]
     },
     "execution_count": 211,
     "metadata": {},
     "output_type": "execute_result"
    }
   ],
   "source": [
    "#number of days unhealthy days in 2013, minus good and moderate and unhealthy for sensitive:\n",
    "len(vdf6_2013[vdf6_2013['Value'] <= 200])-102-128-63"
   ]
  },
  {
   "cell_type": "code",
   "execution_count": 213,
   "metadata": {},
   "outputs": [
    {
     "data": {
      "text/plain": [
       "26"
      ]
     },
     "execution_count": 213,
     "metadata": {},
     "output_type": "execute_result"
    }
   ],
   "source": [
    "#number of days very unhealthy days in 2013:\n",
    "len(vdf6_2013[vdf6_2013['Value'] <= 300])-102-128-63-31"
   ]
  },
  {
   "cell_type": "code",
   "execution_count": 217,
   "metadata": {},
   "outputs": [
    {
     "data": {
      "text/plain": [
       "14"
      ]
     },
     "execution_count": 217,
     "metadata": {},
     "output_type": "execute_result"
    }
   ],
   "source": [
    "#number of days hazardous days in 2013:\n",
    "len(vdf6_2013[vdf6_2013['Value'] <= 500])-102-128-63-31-26"
   ]
  },
  {
   "cell_type": "code",
   "execution_count": 216,
   "metadata": {},
   "outputs": [
    {
     "data": {
      "text/plain": [
       "365"
      ]
     },
     "execution_count": 216,
     "metadata": {},
     "output_type": "execute_result"
    }
   ],
   "source": [
    "len(vdf6_2013)"
   ]
  },
  {
   "cell_type": "code",
   "execution_count": 223,
   "metadata": {},
   "outputs": [
    {
     "data": {
      "text/plain": [
       "116"
      ]
     },
     "execution_count": 223,
     "metadata": {},
     "output_type": "execute_result"
    }
   ],
   "source": [
    "df7 = pd.read_csv(\"Beijing_2014_HourlyPM25_created20150203.csv\", encoding='latin1')\n",
    "df7['QC Name'].astype(str)\n",
    "vdf7 = df7[df7['QC Name'].str.contains(\"Missing\") == False]\n",
    "vdf7_2014 = vdf7.groupby([\"Year\", \"Month\", \"Day\"]).Value.mean().reset_index()\n",
    "vdf7_2014.sort_values(by=['Value'])\n",
    "\n",
    "#number of Good days in all of 2014:\n",
    "len(vdf7_2014[vdf7_2014['Value'] <= 50])"
   ]
  },
  {
   "cell_type": "code",
   "execution_count": 225,
   "metadata": {},
   "outputs": [
    {
     "data": {
      "text/plain": [
       "114"
      ]
     },
     "execution_count": 225,
     "metadata": {},
     "output_type": "execute_result"
    }
   ],
   "source": [
    "#number of Moderate days in all of 2014, minus the good days:\n",
    "len(vdf7_2014[vdf7_2014['Value'] <= 100]) -116"
   ]
  },
  {
   "cell_type": "code",
   "execution_count": 227,
   "metadata": {},
   "outputs": [
    {
     "data": {
      "text/plain": [
       "70"
      ]
     },
     "execution_count": 227,
     "metadata": {},
     "output_type": "execute_result"
    }
   ],
   "source": [
    "#number unhealthy days for sensitive groups in 2014, minus good and moderate:\n",
    "len(vdf7_2014[vdf7_2014['Value'] <= 150]) -116 -114"
   ]
  },
  {
   "cell_type": "code",
   "execution_count": 229,
   "metadata": {},
   "outputs": [
    {
     "data": {
      "text/plain": [
       "30"
      ]
     },
     "execution_count": 229,
     "metadata": {},
     "output_type": "execute_result"
    }
   ],
   "source": [
    "#number of days unhealthy days in 2014, minus good and moderate and unhealthy for sensitive:\n",
    "len(vdf7_2014[vdf7_2014['Value'] <= 200]) -116 -114 -70"
   ]
  },
  {
   "cell_type": "code",
   "execution_count": 231,
   "metadata": {},
   "outputs": [
    {
     "data": {
      "text/plain": [
       "18"
      ]
     },
     "execution_count": 231,
     "metadata": {},
     "output_type": "execute_result"
    }
   ],
   "source": [
    "#number of days very unhealthy days in 2014:\n",
    "len(vdf7_2014[vdf7_2014['Value'] <= 300]) -116 -114 -70 -30"
   ]
  },
  {
   "cell_type": "code",
   "execution_count": 232,
   "metadata": {},
   "outputs": [
    {
     "data": {
      "text/plain": [
       "17"
      ]
     },
     "execution_count": 232,
     "metadata": {},
     "output_type": "execute_result"
    }
   ],
   "source": [
    "#number of days hazardous days in 2014:\n",
    "len(vdf7_2014[vdf7_2014['Value'] <= 500]) -116 -114 -70 -30 -18"
   ]
  },
  {
   "cell_type": "code",
   "execution_count": 239,
   "metadata": {},
   "outputs": [
    {
     "data": {
      "text/plain": [
       "0"
      ]
     },
     "execution_count": 239,
     "metadata": {},
     "output_type": "execute_result"
    }
   ],
   "source": [
    "365-len(vdf7_2014)"
   ]
  },
  {
   "cell_type": "code",
   "execution_count": 242,
   "metadata": {},
   "outputs": [
    {
     "data": {
      "text/plain": [
       "152"
      ]
     },
     "execution_count": 242,
     "metadata": {},
     "output_type": "execute_result"
    }
   ],
   "source": [
    "df8 = pd.read_csv(\"Beijing_2015_HourlyPM25_created20160201.csv\", encoding='latin1')\n",
    "df8['QC Name'].astype(str)\n",
    "vdf8 = df8[df8['QC Name'].str.contains(\"Missing\") == False]\n",
    "vdf8_2015 = vdf8.groupby([\"Year\", \"Month\", \"Day\"]).Value.mean().reset_index()\n",
    "vdf8_2015.sort_values(by=['Value'])\n",
    "\n",
    "#number of Good days in all of 2015:\n",
    "len(vdf8_2015[vdf8_2015['Value'] <= 50])"
   ]
  },
  {
   "cell_type": "code",
   "execution_count": 244,
   "metadata": {},
   "outputs": [
    {
     "data": {
      "text/plain": [
       "114"
      ]
     },
     "execution_count": 244,
     "metadata": {},
     "output_type": "execute_result"
    }
   ],
   "source": [
    "#number of Moderate days in all of 2015, minus the good days:\n",
    "len(vdf8_2015[vdf8_2015['Value'] <= 100]) -152"
   ]
  },
  {
   "cell_type": "code",
   "execution_count": 245,
   "metadata": {},
   "outputs": [
    {
     "data": {
      "text/plain": [
       "46"
      ]
     },
     "execution_count": 245,
     "metadata": {},
     "output_type": "execute_result"
    }
   ],
   "source": [
    "#number unhealthy days for sensitive groups in 2015, minus good and moderate:\n",
    "len(vdf8_2015[vdf8_2015['Value'] <= 150]) -152 -114"
   ]
  },
  {
   "cell_type": "code",
   "execution_count": 247,
   "metadata": {},
   "outputs": [
    {
     "data": {
      "text/plain": [
       "20"
      ]
     },
     "execution_count": 247,
     "metadata": {},
     "output_type": "execute_result"
    }
   ],
   "source": [
    "#number of days unhealthy days in 2015, minus good and moderate and unhealthy for sensitive:\n",
    "len(vdf8_2015[vdf8_2015['Value'] <= 200]) -152 -114 -46"
   ]
  },
  {
   "cell_type": "code",
   "execution_count": 249,
   "metadata": {},
   "outputs": [
    {
     "data": {
      "text/plain": [
       "25"
      ]
     },
     "execution_count": 249,
     "metadata": {},
     "output_type": "execute_result"
    }
   ],
   "source": [
    "#number of days very unhealthy days in 2015:\n",
    "len(vdf8_2015[vdf8_2015['Value'] <= 300]) -152 -114 -46 -20"
   ]
  },
  {
   "cell_type": "code",
   "execution_count": 251,
   "metadata": {},
   "outputs": [
    {
     "data": {
      "text/plain": [
       "7"
      ]
     },
     "execution_count": 251,
     "metadata": {},
     "output_type": "execute_result"
    }
   ],
   "source": [
    "#number of days hazardous days in 2015:\n",
    "len(vdf8_2015[vdf8_2015['Value'] <= 500]) -152 -114 -46 -20 -25"
   ]
  },
  {
   "cell_type": "code",
   "execution_count": 254,
   "metadata": {},
   "outputs": [
    {
     "data": {
      "text/plain": [
       "0"
      ]
     },
     "execution_count": 254,
     "metadata": {},
     "output_type": "execute_result"
    }
   ],
   "source": [
    "#missing days:\n",
    "365 - len(vdf8_2015)"
   ]
  },
  {
   "cell_type": "code",
   "execution_count": 256,
   "metadata": {},
   "outputs": [
    {
     "data": {
      "text/plain": [
       "170"
      ]
     },
     "execution_count": 256,
     "metadata": {},
     "output_type": "execute_result"
    }
   ],
   "source": [
    "df9 = pd.read_csv(\"Beijing_2016_HourlyPM25_created20170201.csv\", encoding='latin1')\n",
    "df9['QC Name'].astype(str)\n",
    "vdf9 = df9[df9['QC Name'].str.contains(\"Missing\") == False]\n",
    "vdf9_2016 = vdf9.groupby([\"Year\", \"Month\", \"Day\"]).Value.mean().reset_index()\n",
    "vdf9_2016.sort_values(by=['Value'])\n",
    "\n",
    "#number of Good days in all of 2016:\n",
    "len(vdf9_2016[vdf9_2016['Value'] <= 50])"
   ]
  },
  {
   "cell_type": "code",
   "execution_count": 257,
   "metadata": {},
   "outputs": [
    {
     "data": {
      "text/plain": [
       "112"
      ]
     },
     "execution_count": 257,
     "metadata": {},
     "output_type": "execute_result"
    }
   ],
   "source": [
    "#number of Moderate days in all of 2016, minus the good days:\n",
    "len(vdf9_2016[vdf9_2016['Value'] <= 100]) -170"
   ]
  },
  {
   "cell_type": "code",
   "execution_count": 258,
   "metadata": {},
   "outputs": [
    {
     "data": {
      "text/plain": [
       "45"
      ]
     },
     "execution_count": 258,
     "metadata": {},
     "output_type": "execute_result"
    }
   ],
   "source": [
    "#number unhealthy days for sensitive groups in 2016, minus good and moderate:\n",
    "len(vdf9_2016[vdf9_2016['Value'] <= 150]) -170 -112"
   ]
  },
  {
   "cell_type": "code",
   "execution_count": 259,
   "metadata": {},
   "outputs": [
    {
     "data": {
      "text/plain": [
       "16"
      ]
     },
     "execution_count": 259,
     "metadata": {},
     "output_type": "execute_result"
    }
   ],
   "source": [
    "#number of days unhealthy days in 2016, minus good and moderate and unhealthy for sensitive:\n",
    "len(vdf9_2016[vdf9_2016['Value'] <= 200]) -170 -112 -45"
   ]
  },
  {
   "cell_type": "code",
   "execution_count": 260,
   "metadata": {},
   "outputs": [
    {
     "data": {
      "text/plain": [
       "18"
      ]
     },
     "execution_count": 260,
     "metadata": {},
     "output_type": "execute_result"
    }
   ],
   "source": [
    "#number of days very unhealthy days in 2016:\n",
    "len(vdf9_2016[vdf9_2016['Value'] <= 300]) -170 -112 -45 -16"
   ]
  },
  {
   "cell_type": "code",
   "execution_count": 261,
   "metadata": {},
   "outputs": [
    {
     "data": {
      "text/plain": [
       "5"
      ]
     },
     "execution_count": 261,
     "metadata": {},
     "output_type": "execute_result"
    }
   ],
   "source": [
    "#number of days hazardous days in 2016:\n",
    "len(vdf9_2016[vdf9_2016['Value'] <= 500]) -170 -112 -45 -16 -18"
   ]
  },
  {
   "cell_type": "code",
   "execution_count": 290,
   "metadata": {},
   "outputs": [
    {
     "data": {
      "text/plain": [
       "0"
      ]
     },
     "execution_count": 290,
     "metadata": {},
     "output_type": "execute_result"
    }
   ],
   "source": [
    "#there are 366 days in 2016:\n",
    "366-len(vdf9_2016)"
   ]
  },
  {
   "cell_type": "code",
   "execution_count": null,
   "metadata": {},
   "outputs": [],
   "source": []
  },
  {
   "cell_type": "code",
   "execution_count": 264,
   "metadata": {},
   "outputs": [
    {
     "data": {
      "text/plain": [
       "98"
      ]
     },
     "execution_count": 264,
     "metadata": {},
     "output_type": "execute_result"
    }
   ],
   "source": [
    "df10 = pd.read_csv(\"Beijing_2017_HourlyPM25_created20170803.csv\", encoding='latin1')\n",
    "df10['QC Name'].astype(str)\n",
    "vdf10 = df10[df10['QC Name'].str.contains(\"Missing\") == False]\n",
    "vdf10_2017 = vdf10.groupby([\"Year\", \"Month\", \"Day\"]).Value.mean().reset_index()\n",
    "vdf10_2017.sort_values(by=['Value'])\n",
    "\n",
    "#number of Good days in all of 2017:\n",
    "len(vdf10_2017[vdf10_2017['Value'] <= 50])"
   ]
  },
  {
   "cell_type": "code",
   "execution_count": 266,
   "metadata": {},
   "outputs": [
    {
     "data": {
      "text/plain": [
       "47"
      ]
     },
     "execution_count": 266,
     "metadata": {},
     "output_type": "execute_result"
    }
   ],
   "source": [
    "#number of Moderate days in all of 2017, minus the good days:\n",
    "len(vdf10_2017[vdf10_2017['Value'] <= 100]) -98"
   ]
  },
  {
   "cell_type": "code",
   "execution_count": 267,
   "metadata": {},
   "outputs": [
    {
     "data": {
      "text/plain": [
       "19"
      ]
     },
     "execution_count": 267,
     "metadata": {},
     "output_type": "execute_result"
    }
   ],
   "source": [
    "#number unhealthy days for sensitive groups in 2017, minus good and moderate:\n",
    "len(vdf10_2017[vdf10_2017['Value'] <= 150]) -98 -47"
   ]
  },
  {
   "cell_type": "code",
   "execution_count": 269,
   "metadata": {},
   "outputs": [
    {
     "data": {
      "text/plain": [
       "6"
      ]
     },
     "execution_count": 269,
     "metadata": {},
     "output_type": "execute_result"
    }
   ],
   "source": [
    "#number of days unhealthy days in 2017, minus good and moderate and unhealthy for sensitive:\n",
    "len(vdf10_2017[vdf10_2017['Value'] <= 200]) -98 -47 -19"
   ]
  },
  {
   "cell_type": "code",
   "execution_count": 270,
   "metadata": {},
   "outputs": [
    {
     "data": {
      "text/plain": [
       "7"
      ]
     },
     "execution_count": 270,
     "metadata": {},
     "output_type": "execute_result"
    }
   ],
   "source": [
    "#number of days very unhealthy days in 2017:\n",
    "len(vdf10_2017[vdf10_2017['Value'] <= 300]) -98 -47 -19 -6"
   ]
  },
  {
   "cell_type": "code",
   "execution_count": 271,
   "metadata": {},
   "outputs": [
    {
     "data": {
      "text/plain": [
       "4"
      ]
     },
     "execution_count": 271,
     "metadata": {},
     "output_type": "execute_result"
    }
   ],
   "source": [
    "#number of days hazardous days in 2017:\n",
    "len(vdf10_2017[vdf10_2017['Value'] <= 500]) -98 -47 -19 -6 -7"
   ]
  },
  {
   "cell_type": "code",
   "execution_count": 273,
   "metadata": {},
   "outputs": [
    {
     "data": {
      "text/plain": [
       "184"
      ]
     },
     "execution_count": 273,
     "metadata": {},
     "output_type": "execute_result"
    }
   ],
   "source": [
    "365-len(vdf10_2017)"
   ]
  },
  {
   "cell_type": "code",
   "execution_count": null,
   "metadata": {},
   "outputs": [],
   "source": []
  },
  {
   "cell_type": "code",
   "execution_count": 98,
   "metadata": {},
   "outputs": [
    {
     "data": {
      "text/html": [
       "<iframe srcdoc=\"\n",
       "        <!-- Load Google Charts -->\n",
       "        <script type='text/javascript' src='https://www.gstatic.com/charts/loader.js'></script>\n",
       "    \n",
       "        <div id=chart style='width: 100%; height: 100%' ></div>\n",
       "        <script type='text/javascript'>\n",
       "            google.charts.load('current', {'packages':['corechart']});\n",
       "            google.charts.setOnLoadCallback(drawChart);\n",
       "\n",
       "            function drawChart() {\n",
       "                var data = google.visualization.arrayToDataTable([\n",
       "    [\n",
       "        'Air Quality',\n",
       "        'Good',\n",
       "        'Moderate',\n",
       "        'Unhealthy for Children & Asthmatics',\n",
       "        'Unhealthy',\n",
       "        'Very Unhealthy',\n",
       "        'Hazardous',\n",
       "        'Air Quality Index Data Unknown',\n",
       "        {\n",
       "            'role': 'annotation'\n",
       "        }\n",
       "    ],\n",
       "    [\n",
       "        '2008',\n",
       "        64,\n",
       "        75,\n",
       "        49,\n",
       "        20,\n",
       "        4,\n",
       "        0,\n",
       "        153,\n",
       "        ''\n",
       "    ],\n",
       "    [\n",
       "        '2009',\n",
       "        69,\n",
       "        102,\n",
       "        74,\n",
       "        27,\n",
       "        25,\n",
       "        4,\n",
       "        64,\n",
       "        ''\n",
       "    ],\n",
       "    [\n",
       "        '2010',\n",
       "        88,\n",
       "        118,\n",
       "        67,\n",
       "        42,\n",
       "        26,\n",
       "        10,\n",
       "        14,\n",
       "        ''\n",
       "    ],\n",
       "    [\n",
       "        '2011',\n",
       "        122,\n",
       "        86,\n",
       "        71,\n",
       "        37,\n",
       "        30,\n",
       "        8,\n",
       "        11,\n",
       "        ''\n",
       "    ],\n",
       "    [\n",
       "        '2012',\n",
       "        119,\n",
       "        100,\n",
       "        72,\n",
       "        40,\n",
       "        21,\n",
       "        3,\n",
       "        10,\n",
       "        ''\n",
       "    ],\n",
       "    [\n",
       "        '2013',\n",
       "        102,\n",
       "        128,\n",
       "        63,\n",
       "        31,\n",
       "        26,\n",
       "        14,\n",
       "        0,\n",
       "        ''\n",
       "    ],\n",
       "    [\n",
       "        '2014',\n",
       "        116,\n",
       "        114,\n",
       "        70,\n",
       "        30,\n",
       "        18,\n",
       "        17,\n",
       "        0,\n",
       "        ''\n",
       "    ],\n",
       "    [\n",
       "        '2015',\n",
       "        152,\n",
       "        114,\n",
       "        46,\n",
       "        20,\n",
       "        25,\n",
       "        7,\n",
       "        0,\n",
       "        ''\n",
       "    ],\n",
       "    [\n",
       "        '2016',\n",
       "        170,\n",
       "        112,\n",
       "        45,\n",
       "        16,\n",
       "        18,\n",
       "        5,\n",
       "        0,\n",
       "        ''\n",
       "    ],\n",
       "    [\n",
       "        '2017',\n",
       "        98,\n",
       "        47,\n",
       "        19,\n",
       "        6,\n",
       "        7,\n",
       "        4,\n",
       "        184,\n",
       "        ''\n",
       "    ]\n",
       "]\n",
       "                );\n",
       "\n",
       "                var chart = new google.visualization.ColumnChart(document.getElementById('chart'));\n",
       "\n",
       "                chart.draw(data, {\n",
       "    'title': 'Is Beijing\\'s Air Really Improving?',\n",
       "    'titleTextStyle': {\n",
       "        'fontSize': 18\n",
       "    },\n",
       "    'vAxis': {\n",
       "        'title': 'Days',\n",
       "        'gridlines': {\n",
       "            'count': 5\n",
       "        },\n",
       "        'viewWindow': {\n",
       "            'min': 0,\n",
       "            'max': 366\n",
       "        },\n",
       "        'ticks': [\n",
       "            0,\n",
       "            100,\n",
       "            225,\n",
       "            365\n",
       "        ]\n",
       "    },\n",
       "    'width': 900,\n",
       "    'height': 450,\n",
       "    'legend': {\n",
       "        'position': 'top',\n",
       "        'maxLines': 3\n",
       "    },\n",
       "    'bar': {\n",
       "        'groupWidth': '75%'\n",
       "    },\n",
       "    'isStacked': 'true',\n",
       "    'BucketItems': 'true',\n",
       "    'colors': [\n",
       "        '#cde5f7',\n",
       "        '#dbe2e6',\n",
       "        '#CDCDCD',\n",
       "        '#A1A1A1',\n",
       "        '#696969',\n",
       "        '#3D3D3D',\n",
       "        '#f1f1f1'\n",
       "    ]\n",
       "});\n",
       "            }\n",
       "        </script>\n",
       "    \" src=\"\" width=\"800\" height=\"420\" frameborder=0 sandbox=\"allow-scripts\"></iframe>"
      ],
      "text/plain": [
       "<IPython.core.display.HTML object>"
      ]
     },
     "execution_count": 98,
     "metadata": {},
     "output_type": "execute_result"
    }
   ],
   "source": [
    "from iplotter import GCPlotter\n",
    "\n",
    "plotter = GCPlotter()\n",
    "\n",
    "data = [\n",
    "    ['Air Quality', 'Good', 'Moderate', 'Unhealthy for Children & Asthmatics', 'Unhealthy',\n",
    "     'Very Unhealthy', 'Hazardous', 'Air Quality Index Data Unknown', {\"role\": 'annotation'}],\n",
    "    ['2008', 64, 75, 49, 20, 4, 0, 153,''],\n",
    "    ['2009', 69, 102, 74, 27, 25, 4, 64, ''],\n",
    "    ['2010', 88, 118, 67, 42, 26, 10, 14,''],\n",
    "    ['2011', 122, 86, 71, 37, 30, 8, 11,''],\n",
    "    ['2012', 119, 100, 72, 40, 21, 3, 10,''],\n",
    "    ['2013', 102, 128, 63, 31, 26, 14, 0, ''],\n",
    "    ['2014', 116, 114, 70, 30, 18, 17, 0, ''],\n",
    "    ['2015', 152, 114, 46, 20, 25, 7, 0, ''],\n",
    "    ['2016', 170, 112, 45, 16, 18, 5, 0, ''],\n",
    "    ['2017', 98, 47, 19, 6, 7, 4, 184, '']\n",
    "]\n",
    "\n",
    "options = {\n",
    "    \"title\": \"Is Beijing's Air Really Improving?\",\n",
    "    \"titleTextStyle\": {\"fontSize\": 18},\n",
    "    \"vAxis\": {\"title\": 'Days', \"gridlines\": { \"count\": 5 },\"viewWindow\": { \"min\": 0, \"max\": 366}, \"ticks\": [0, 100, 225, 365]},\n",
    "    \"width\": 900,\n",
    "    \"height\": 450,\n",
    "    \"legend\": {\"position\": 'top', \"maxLines\": 3},\n",
    "    \"bar\": {\"groupWidth\": '75%'},\n",
    "    \"isStacked\": \"true\",\n",
    "    \"BucketItems\": \"true\",\n",
    "    \"colors\": ['#cde5f7', '#dbe2e6', '#CDCDCD', '#A1A1A1', '#696969','#3D3D3D', '#f1f1f1',]\n",
    "}\n",
    "\n",
    "plotter.plot(data, chart_type=\"ColumnChart\",chart_package='corechart', options=options)"
   ]
  },
  {
   "cell_type": "code",
   "execution_count": null,
   "metadata": {},
   "outputs": [],
   "source": []
  }
 ],
 "metadata": {
  "kernelspec": {
   "display_name": "Python 3",
   "language": "python",
   "name": "python3"
  },
  "language_info": {
   "codemirror_mode": {
    "name": "ipython",
    "version": 3
   },
   "file_extension": ".py",
   "mimetype": "text/x-python",
   "name": "python",
   "nbconvert_exporter": "python",
   "pygments_lexer": "ipython3",
   "version": "3.6.5"
  }
 },
 "nbformat": 4,
 "nbformat_minor": 2
}
